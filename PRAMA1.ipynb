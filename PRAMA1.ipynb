{
 "cells": [
  {
   "cell_type": "markdown",
   "metadata": {},
   "source": [
    "PRAMA - prix de vente des biens immobiliers"
   ]
  },
  {
   "cell_type": "code",
   "execution_count": 1,
   "metadata": {},
   "outputs": [
    {
     "name": "stderr",
     "output_type": "stream",
     "text": [
      "C:\\Users\\morea\\AppData\\Local\\Temp\\ipykernel_18756\\3381811058.py:1: DeprecationWarning: \n",
      "Pyarrow will become a required dependency of pandas in the next major release of pandas (pandas 3.0),\n",
      "(to allow more performant data types, such as the Arrow string type, and better interoperability with other libraries)\n",
      "but was not found to be installed on your system.\n",
      "If this would cause problems for you,\n",
      "please provide us feedback at https://github.com/pandas-dev/pandas/issues/54466\n",
      "        \n",
      "  import pandas as pd\n"
     ]
    }
   ],
   "source": [
    "import pandas as pd\n",
    "import matplotlib.pyplot as plt\n",
    "import seaborn as sns\n",
    "import numpy as np"
   ]
  },
  {
   "cell_type": "code",
   "execution_count": 2,
   "metadata": {},
   "outputs": [],
   "source": [
    "test = pd.read_csv(\"prama-2025\\\\test_data.csv\")\n",
    "train=  pd.read_csv(\"prama-2025\\\\train_data.csv\")"
   ]
  },
  {
   "cell_type": "code",
   "execution_count": 3,
   "metadata": {},
   "outputs": [
    {
     "data": {
      "text/html": [
       "<div>\n",
       "<style scoped>\n",
       "    .dataframe tbody tr th:only-of-type {\n",
       "        vertical-align: middle;\n",
       "    }\n",
       "\n",
       "    .dataframe tbody tr th {\n",
       "        vertical-align: top;\n",
       "    }\n",
       "\n",
       "    .dataframe thead th {\n",
       "        text-align: right;\n",
       "    }\n",
       "</style>\n",
       "<table border=\"1\" class=\"dataframe\">\n",
       "  <thead>\n",
       "    <tr style=\"text-align: right;\">\n",
       "      <th></th>\n",
       "      <th>id</th>\n",
       "      <th>date</th>\n",
       "      <th>prix</th>\n",
       "      <th>nb_chambres</th>\n",
       "      <th>nb_sdb</th>\n",
       "      <th>m2_interieur</th>\n",
       "      <th>m2_jardin</th>\n",
       "      <th>m2_etage</th>\n",
       "      <th>m2_soussol</th>\n",
       "      <th>nb_etages</th>\n",
       "      <th>...</th>\n",
       "      <th>vue_note</th>\n",
       "      <th>etat_note</th>\n",
       "      <th>design_note</th>\n",
       "      <th>annee_construction</th>\n",
       "      <th>annee_renovation</th>\n",
       "      <th>m2_interieur_15voisins</th>\n",
       "      <th>m2_jardin_15voisins</th>\n",
       "      <th>zipcode</th>\n",
       "      <th>lat</th>\n",
       "      <th>long</th>\n",
       "    </tr>\n",
       "  </thead>\n",
       "  <tbody>\n",
       "    <tr>\n",
       "      <th>0</th>\n",
       "      <td>4443800785</td>\n",
       "      <td>2014-11-21T00:00:00Z</td>\n",
       "      <td>481000</td>\n",
       "      <td>2</td>\n",
       "      <td>1.00</td>\n",
       "      <td>150.501672</td>\n",
       "      <td>360.460795</td>\n",
       "      <td>85.470085</td>\n",
       "      <td>65.031587</td>\n",
       "      <td>1.0</td>\n",
       "      <td>...</td>\n",
       "      <td>0</td>\n",
       "      <td>4</td>\n",
       "      <td>7</td>\n",
       "      <td>1924</td>\n",
       "      <td>0</td>\n",
       "      <td>123.560015</td>\n",
       "      <td>360.460795</td>\n",
       "      <td>98117</td>\n",
       "      <td>47.6855</td>\n",
       "      <td>-122.391</td>\n",
       "    </tr>\n",
       "    <tr>\n",
       "      <th>1</th>\n",
       "      <td>2722059013</td>\n",
       "      <td>2015-02-04T00:00:00Z</td>\n",
       "      <td>550000</td>\n",
       "      <td>2</td>\n",
       "      <td>1.00</td>\n",
       "      <td>117.985879</td>\n",
       "      <td>4046.822742</td>\n",
       "      <td>117.985879</td>\n",
       "      <td>0.000000</td>\n",
       "      <td>1.0</td>\n",
       "      <td>...</td>\n",
       "      <td>0</td>\n",
       "      <td>4</td>\n",
       "      <td>5</td>\n",
       "      <td>1908</td>\n",
       "      <td>0</td>\n",
       "      <td>173.727239</td>\n",
       "      <td>646.599777</td>\n",
       "      <td>98042</td>\n",
       "      <td>47.3651</td>\n",
       "      <td>-122.165</td>\n",
       "    </tr>\n",
       "    <tr>\n",
       "      <th>2</th>\n",
       "      <td>8856004730</td>\n",
       "      <td>2014-09-17T00:00:00Z</td>\n",
       "      <td>199950</td>\n",
       "      <td>2</td>\n",
       "      <td>2.75</td>\n",
       "      <td>147.714604</td>\n",
       "      <td>1943.236715</td>\n",
       "      <td>147.714604</td>\n",
       "      <td>0.000000</td>\n",
       "      <td>1.5</td>\n",
       "      <td>...</td>\n",
       "      <td>0</td>\n",
       "      <td>3</td>\n",
       "      <td>5</td>\n",
       "      <td>1920</td>\n",
       "      <td>0</td>\n",
       "      <td>121.701970</td>\n",
       "      <td>557.413601</td>\n",
       "      <td>98001</td>\n",
       "      <td>47.2786</td>\n",
       "      <td>-122.250</td>\n",
       "    </tr>\n",
       "    <tr>\n",
       "      <th>3</th>\n",
       "      <td>2473003210</td>\n",
       "      <td>2015-03-13T00:00:00Z</td>\n",
       "      <td>364808</td>\n",
       "      <td>3</td>\n",
       "      <td>1.75</td>\n",
       "      <td>215.533259</td>\n",
       "      <td>731.605351</td>\n",
       "      <td>150.501672</td>\n",
       "      <td>65.031587</td>\n",
       "      <td>1.0</td>\n",
       "      <td>...</td>\n",
       "      <td>0</td>\n",
       "      <td>3</td>\n",
       "      <td>8</td>\n",
       "      <td>1967</td>\n",
       "      <td>0</td>\n",
       "      <td>184.875511</td>\n",
       "      <td>903.010033</td>\n",
       "      <td>98058</td>\n",
       "      <td>47.4524</td>\n",
       "      <td>-122.146</td>\n",
       "    </tr>\n",
       "    <tr>\n",
       "      <th>4</th>\n",
       "      <td>6743700335</td>\n",
       "      <td>2014-06-04T00:00:00Z</td>\n",
       "      <td>470000</td>\n",
       "      <td>3</td>\n",
       "      <td>2.00</td>\n",
       "      <td>167.224080</td>\n",
       "      <td>1176.978818</td>\n",
       "      <td>167.224080</td>\n",
       "      <td>0.000000</td>\n",
       "      <td>1.0</td>\n",
       "      <td>...</td>\n",
       "      <td>0</td>\n",
       "      <td>3</td>\n",
       "      <td>7</td>\n",
       "      <td>1956</td>\n",
       "      <td>1990</td>\n",
       "      <td>183.017466</td>\n",
       "      <td>908.119658</td>\n",
       "      <td>98033</td>\n",
       "      <td>47.6935</td>\n",
       "      <td>-122.173</td>\n",
       "    </tr>\n",
       "    <tr>\n",
       "      <th>...</th>\n",
       "      <td>...</td>\n",
       "      <td>...</td>\n",
       "      <td>...</td>\n",
       "      <td>...</td>\n",
       "      <td>...</td>\n",
       "      <td>...</td>\n",
       "      <td>...</td>\n",
       "      <td>...</td>\n",
       "      <td>...</td>\n",
       "      <td>...</td>\n",
       "      <td>...</td>\n",
       "      <td>...</td>\n",
       "      <td>...</td>\n",
       "      <td>...</td>\n",
       "      <td>...</td>\n",
       "      <td>...</td>\n",
       "      <td>...</td>\n",
       "      <td>...</td>\n",
       "      <td>...</td>\n",
       "      <td>...</td>\n",
       "      <td>...</td>\n",
       "    </tr>\n",
       "    <tr>\n",
       "      <th>17142</th>\n",
       "      <td>6738700075</td>\n",
       "      <td>2014-06-26T00:00:00Z</td>\n",
       "      <td>755000</td>\n",
       "      <td>4</td>\n",
       "      <td>2.75</td>\n",
       "      <td>267.558528</td>\n",
       "      <td>371.609067</td>\n",
       "      <td>195.094760</td>\n",
       "      <td>72.463768</td>\n",
       "      <td>1.5</td>\n",
       "      <td>...</td>\n",
       "      <td>0</td>\n",
       "      <td>3</td>\n",
       "      <td>9</td>\n",
       "      <td>1912</td>\n",
       "      <td>2000</td>\n",
       "      <td>196.023783</td>\n",
       "      <td>371.609067</td>\n",
       "      <td>98144</td>\n",
       "      <td>47.5843</td>\n",
       "      <td>-122.293</td>\n",
       "    </tr>\n",
       "    <tr>\n",
       "      <th>17143</th>\n",
       "      <td>9407100500</td>\n",
       "      <td>2015-03-11T00:00:00Z</td>\n",
       "      <td>273000</td>\n",
       "      <td>3</td>\n",
       "      <td>1.75</td>\n",
       "      <td>143.069491</td>\n",
       "      <td>979.654404</td>\n",
       "      <td>143.069491</td>\n",
       "      <td>0.000000</td>\n",
       "      <td>2.0</td>\n",
       "      <td>...</td>\n",
       "      <td>0</td>\n",
       "      <td>4</td>\n",
       "      <td>6</td>\n",
       "      <td>1978</td>\n",
       "      <td>0</td>\n",
       "      <td>143.069491</td>\n",
       "      <td>929.022668</td>\n",
       "      <td>98045</td>\n",
       "      <td>47.4451</td>\n",
       "      <td>-121.763</td>\n",
       "    </tr>\n",
       "    <tr>\n",
       "      <th>17144</th>\n",
       "      <td>686300930</td>\n",
       "      <td>2015-03-05T00:00:00Z</td>\n",
       "      <td>453000</td>\n",
       "      <td>3</td>\n",
       "      <td>1.75</td>\n",
       "      <td>148.643627</td>\n",
       "      <td>671.869194</td>\n",
       "      <td>148.643627</td>\n",
       "      <td>0.000000</td>\n",
       "      <td>1.0</td>\n",
       "      <td>...</td>\n",
       "      <td>0</td>\n",
       "      <td>3</td>\n",
       "      <td>8</td>\n",
       "      <td>1966</td>\n",
       "      <td>0</td>\n",
       "      <td>183.017466</td>\n",
       "      <td>754.366407</td>\n",
       "      <td>98008</td>\n",
       "      <td>47.6293</td>\n",
       "      <td>-122.121</td>\n",
       "    </tr>\n",
       "    <tr>\n",
       "      <th>17145</th>\n",
       "      <td>8161020060</td>\n",
       "      <td>2014-06-20T00:00:00Z</td>\n",
       "      <td>443500</td>\n",
       "      <td>4</td>\n",
       "      <td>2.50</td>\n",
       "      <td>189.520624</td>\n",
       "      <td>2023.504274</td>\n",
       "      <td>189.520624</td>\n",
       "      <td>0.000000</td>\n",
       "      <td>2.0</td>\n",
       "      <td>...</td>\n",
       "      <td>0</td>\n",
       "      <td>3</td>\n",
       "      <td>8</td>\n",
       "      <td>1994</td>\n",
       "      <td>0</td>\n",
       "      <td>223.894463</td>\n",
       "      <td>2023.504274</td>\n",
       "      <td>98014</td>\n",
       "      <td>47.6458</td>\n",
       "      <td>-121.904</td>\n",
       "    </tr>\n",
       "    <tr>\n",
       "      <th>17146</th>\n",
       "      <td>226109056</td>\n",
       "      <td>2015-03-26T00:00:00Z</td>\n",
       "      <td>170000</td>\n",
       "      <td>1</td>\n",
       "      <td>0.75</td>\n",
       "      <td>78.966927</td>\n",
       "      <td>520.252694</td>\n",
       "      <td>78.966927</td>\n",
       "      <td>0.000000</td>\n",
       "      <td>1.0</td>\n",
       "      <td>...</td>\n",
       "      <td>2</td>\n",
       "      <td>3</td>\n",
       "      <td>6</td>\n",
       "      <td>1903</td>\n",
       "      <td>1994</td>\n",
       "      <td>83.612040</td>\n",
       "      <td>1138.052768</td>\n",
       "      <td>98019</td>\n",
       "      <td>47.7654</td>\n",
       "      <td>-121.480</td>\n",
       "    </tr>\n",
       "  </tbody>\n",
       "</table>\n",
       "<p>17147 rows × 21 columns</p>\n",
       "</div>"
      ],
      "text/plain": [
       "               id                  date    prix  nb_chambres  nb_sdb  \\\n",
       "0      4443800785  2014-11-21T00:00:00Z  481000            2    1.00   \n",
       "1      2722059013  2015-02-04T00:00:00Z  550000            2    1.00   \n",
       "2      8856004730  2014-09-17T00:00:00Z  199950            2    2.75   \n",
       "3      2473003210  2015-03-13T00:00:00Z  364808            3    1.75   \n",
       "4      6743700335  2014-06-04T00:00:00Z  470000            3    2.00   \n",
       "...           ...                   ...     ...          ...     ...   \n",
       "17142  6738700075  2014-06-26T00:00:00Z  755000            4    2.75   \n",
       "17143  9407100500  2015-03-11T00:00:00Z  273000            3    1.75   \n",
       "17144   686300930  2015-03-05T00:00:00Z  453000            3    1.75   \n",
       "17145  8161020060  2014-06-20T00:00:00Z  443500            4    2.50   \n",
       "17146   226109056  2015-03-26T00:00:00Z  170000            1    0.75   \n",
       "\n",
       "       m2_interieur    m2_jardin    m2_etage  m2_soussol  nb_etages  ...  \\\n",
       "0        150.501672   360.460795   85.470085   65.031587        1.0  ...   \n",
       "1        117.985879  4046.822742  117.985879    0.000000        1.0  ...   \n",
       "2        147.714604  1943.236715  147.714604    0.000000        1.5  ...   \n",
       "3        215.533259   731.605351  150.501672   65.031587        1.0  ...   \n",
       "4        167.224080  1176.978818  167.224080    0.000000        1.0  ...   \n",
       "...             ...          ...         ...         ...        ...  ...   \n",
       "17142    267.558528   371.609067  195.094760   72.463768        1.5  ...   \n",
       "17143    143.069491   979.654404  143.069491    0.000000        2.0  ...   \n",
       "17144    148.643627   671.869194  148.643627    0.000000        1.0  ...   \n",
       "17145    189.520624  2023.504274  189.520624    0.000000        2.0  ...   \n",
       "17146     78.966927   520.252694   78.966927    0.000000        1.0  ...   \n",
       "\n",
       "       vue_note  etat_note  design_note  annee_construction  annee_renovation  \\\n",
       "0             0          4            7                1924                 0   \n",
       "1             0          4            5                1908                 0   \n",
       "2             0          3            5                1920                 0   \n",
       "3             0          3            8                1967                 0   \n",
       "4             0          3            7                1956              1990   \n",
       "...         ...        ...          ...                 ...               ...   \n",
       "17142         0          3            9                1912              2000   \n",
       "17143         0          4            6                1978                 0   \n",
       "17144         0          3            8                1966                 0   \n",
       "17145         0          3            8                1994                 0   \n",
       "17146         2          3            6                1903              1994   \n",
       "\n",
       "       m2_interieur_15voisins  m2_jardin_15voisins  zipcode      lat     long  \n",
       "0                  123.560015           360.460795    98117  47.6855 -122.391  \n",
       "1                  173.727239           646.599777    98042  47.3651 -122.165  \n",
       "2                  121.701970           557.413601    98001  47.2786 -122.250  \n",
       "3                  184.875511           903.010033    98058  47.4524 -122.146  \n",
       "4                  183.017466           908.119658    98033  47.6935 -122.173  \n",
       "...                       ...                  ...      ...      ...      ...  \n",
       "17142              196.023783           371.609067    98144  47.5843 -122.293  \n",
       "17143              143.069491           929.022668    98045  47.4451 -121.763  \n",
       "17144              183.017466           754.366407    98008  47.6293 -122.121  \n",
       "17145              223.894463          2023.504274    98014  47.6458 -121.904  \n",
       "17146               83.612040          1138.052768    98019  47.7654 -121.480  \n",
       "\n",
       "[17147 rows x 21 columns]"
      ]
     },
     "execution_count": 3,
     "metadata": {},
     "output_type": "execute_result"
    }
   ],
   "source": [
    "train"
   ]
  },
  {
   "cell_type": "markdown",
   "metadata": {},
   "source": [
    "### id"
   ]
  },
  {
   "cell_type": "code",
   "execution_count": 4,
   "metadata": {},
   "outputs": [],
   "source": [
    "ids=pd.DataFrame(test['id'])\n",
    "train=train.drop('id',axis=1)\n",
    "test=test.drop('id',axis=1)"
   ]
  },
  {
   "cell_type": "code",
   "execution_count": 5,
   "metadata": {},
   "outputs": [],
   "source": [
    "target=['prix']\n",
    "quant=['date', 'nb_chambres', 'nb_sdb','m2_interieur', 'm2_jardin',\n",
    "       'm2_etage', 'm2_soussol', 'nb_etages','vue_note','etat_note', 'design_note', \n",
    "       'annee_construction', 'annee_renovation','m2_interieur_15voisins', 'm2_jardin_15voisins',\n",
    "       'lat','long']\n",
    "qual=['vue_mer','zipcode']"
   ]
  },
  {
   "cell_type": "code",
   "execution_count": 6,
   "metadata": {},
   "outputs": [
    {
     "data": {
      "text/plain": [
       "Index(['date', 'prix', 'nb_chambres', 'nb_sdb', 'm2_interieur', 'm2_jardin',\n",
       "       'm2_etage', 'm2_soussol', 'nb_etages', 'vue_mer', 'vue_note',\n",
       "       'etat_note', 'design_note', 'annee_construction', 'annee_renovation',\n",
       "       'm2_interieur_15voisins', 'm2_jardin_15voisins', 'zipcode', 'lat',\n",
       "       'long'],\n",
       "      dtype='object')"
      ]
     },
     "execution_count": 6,
     "metadata": {},
     "output_type": "execute_result"
    }
   ],
   "source": [
    "train.columns"
   ]
  },
  {
   "cell_type": "code",
   "execution_count": 7,
   "metadata": {},
   "outputs": [],
   "source": [
    "train['prix_m2']=train['prix']/train['m2_interieur']"
   ]
  },
  {
   "cell_type": "code",
   "execution_count": 8,
   "metadata": {},
   "outputs": [
    {
     "data": {
      "text/html": [
       "<div>\n",
       "<style scoped>\n",
       "    .dataframe tbody tr th:only-of-type {\n",
       "        vertical-align: middle;\n",
       "    }\n",
       "\n",
       "    .dataframe tbody tr th {\n",
       "        vertical-align: top;\n",
       "    }\n",
       "\n",
       "    .dataframe thead th {\n",
       "        text-align: right;\n",
       "    }\n",
       "</style>\n",
       "<table border=\"1\" class=\"dataframe\">\n",
       "  <thead>\n",
       "    <tr style=\"text-align: right;\">\n",
       "      <th></th>\n",
       "      <th>date</th>\n",
       "      <th>prix</th>\n",
       "      <th>nb_chambres</th>\n",
       "      <th>nb_sdb</th>\n",
       "      <th>m2_interieur</th>\n",
       "      <th>m2_jardin</th>\n",
       "      <th>m2_etage</th>\n",
       "      <th>m2_soussol</th>\n",
       "      <th>nb_etages</th>\n",
       "      <th>vue_mer</th>\n",
       "      <th>...</th>\n",
       "      <th>etat_note</th>\n",
       "      <th>design_note</th>\n",
       "      <th>annee_construction</th>\n",
       "      <th>annee_renovation</th>\n",
       "      <th>m2_interieur_15voisins</th>\n",
       "      <th>m2_jardin_15voisins</th>\n",
       "      <th>zipcode</th>\n",
       "      <th>lat</th>\n",
       "      <th>long</th>\n",
       "      <th>prix_m2</th>\n",
       "    </tr>\n",
       "  </thead>\n",
       "  <tbody>\n",
       "  </tbody>\n",
       "</table>\n",
       "<p>0 rows × 21 columns</p>\n",
       "</div>"
      ],
      "text/plain": [
       "Empty DataFrame\n",
       "Columns: [date, prix, nb_chambres, nb_sdb, m2_interieur, m2_jardin, m2_etage, m2_soussol, nb_etages, vue_mer, vue_note, etat_note, design_note, annee_construction, annee_renovation, m2_interieur_15voisins, m2_jardin_15voisins, zipcode, lat, long, prix_m2]\n",
       "Index: []\n",
       "\n",
       "[0 rows x 21 columns]"
      ]
     },
     "execution_count": 8,
     "metadata": {},
     "output_type": "execute_result"
    }
   ],
   "source": [
    "train[(train['m2_etage']+train['m2_soussol'])-train['m2_interieur']>0.00001]"
   ]
  },
  {
   "cell_type": "markdown",
   "metadata": {},
   "source": [
    "un peu de nettoyage"
   ]
  },
  {
   "cell_type": "code",
   "execution_count": 9,
   "metadata": {},
   "outputs": [
    {
     "data": {
      "text/html": [
       "<div>\n",
       "<style scoped>\n",
       "    .dataframe tbody tr th:only-of-type {\n",
       "        vertical-align: middle;\n",
       "    }\n",
       "\n",
       "    .dataframe tbody tr th {\n",
       "        vertical-align: top;\n",
       "    }\n",
       "\n",
       "    .dataframe thead th {\n",
       "        text-align: right;\n",
       "    }\n",
       "</style>\n",
       "<table border=\"1\" class=\"dataframe\">\n",
       "  <thead>\n",
       "    <tr style=\"text-align: right;\">\n",
       "      <th></th>\n",
       "      <th>date</th>\n",
       "      <th>prix</th>\n",
       "      <th>nb_chambres</th>\n",
       "      <th>nb_sdb</th>\n",
       "      <th>m2_interieur</th>\n",
       "      <th>m2_jardin</th>\n",
       "      <th>m2_etage</th>\n",
       "      <th>m2_soussol</th>\n",
       "      <th>nb_etages</th>\n",
       "      <th>vue_mer</th>\n",
       "      <th>...</th>\n",
       "      <th>etat_note</th>\n",
       "      <th>design_note</th>\n",
       "      <th>annee_construction</th>\n",
       "      <th>annee_renovation</th>\n",
       "      <th>m2_interieur_15voisins</th>\n",
       "      <th>m2_jardin_15voisins</th>\n",
       "      <th>zipcode</th>\n",
       "      <th>lat</th>\n",
       "      <th>long</th>\n",
       "      <th>prix_m2</th>\n",
       "    </tr>\n",
       "  </thead>\n",
       "  <tbody>\n",
       "    <tr>\n",
       "      <th>11281</th>\n",
       "      <td>2014-06-17T00:00:00Z</td>\n",
       "      <td>4668000</td>\n",
       "      <td>5</td>\n",
       "      <td>6.75</td>\n",
       "      <td>895.577852</td>\n",
       "      <td>1214.046823</td>\n",
       "      <td>447.788926</td>\n",
       "      <td>447.788926</td>\n",
       "      <td>1.0</td>\n",
       "      <td>1</td>\n",
       "      <td>...</td>\n",
       "      <td>3</td>\n",
       "      <td>12</td>\n",
       "      <td>1983</td>\n",
       "      <td>2009</td>\n",
       "      <td>303.790412</td>\n",
       "      <td>971.200297</td>\n",
       "      <td>98040</td>\n",
       "      <td>47.557</td>\n",
       "      <td>-122.21</td>\n",
       "      <td>5212.277178</td>\n",
       "    </tr>\n",
       "  </tbody>\n",
       "</table>\n",
       "<p>1 rows × 21 columns</p>\n",
       "</div>"
      ],
      "text/plain": [
       "                       date     prix  nb_chambres  nb_sdb  m2_interieur  \\\n",
       "11281  2014-06-17T00:00:00Z  4668000            5    6.75    895.577852   \n",
       "\n",
       "         m2_jardin    m2_etage  m2_soussol  nb_etages  vue_mer  ...  \\\n",
       "11281  1214.046823  447.788926  447.788926        1.0        1  ...   \n",
       "\n",
       "       etat_note  design_note  annee_construction  annee_renovation  \\\n",
       "11281          3           12                1983              2009   \n",
       "\n",
       "       m2_interieur_15voisins  m2_jardin_15voisins  zipcode     lat    long  \\\n",
       "11281              303.790412           971.200297    98040  47.557 -122.21   \n",
       "\n",
       "           prix_m2  \n",
       "11281  5212.277178  \n",
       "\n",
       "[1 rows x 21 columns]"
      ]
     },
     "execution_count": 9,
     "metadata": {},
     "output_type": "execute_result"
    }
   ],
   "source": [
    "train[train['m2_soussol']>400]"
   ]
  },
  {
   "cell_type": "code",
   "execution_count": 10,
   "metadata": {},
   "outputs": [],
   "source": [
    "train=train[train['m2_soussol']<400]"
   ]
  },
  {
   "cell_type": "code",
   "execution_count": 11,
   "metadata": {},
   "outputs": [
    {
     "data": {
      "text/html": [
       "<div>\n",
       "<style scoped>\n",
       "    .dataframe tbody tr th:only-of-type {\n",
       "        vertical-align: middle;\n",
       "    }\n",
       "\n",
       "    .dataframe tbody tr th {\n",
       "        vertical-align: top;\n",
       "    }\n",
       "\n",
       "    .dataframe thead th {\n",
       "        text-align: right;\n",
       "    }\n",
       "</style>\n",
       "<table border=\"1\" class=\"dataframe\">\n",
       "  <thead>\n",
       "    <tr style=\"text-align: right;\">\n",
       "      <th></th>\n",
       "      <th>date</th>\n",
       "      <th>prix</th>\n",
       "      <th>nb_chambres</th>\n",
       "      <th>nb_sdb</th>\n",
       "      <th>m2_interieur</th>\n",
       "      <th>m2_jardin</th>\n",
       "      <th>m2_etage</th>\n",
       "      <th>m2_soussol</th>\n",
       "      <th>nb_etages</th>\n",
       "      <th>vue_mer</th>\n",
       "      <th>...</th>\n",
       "      <th>etat_note</th>\n",
       "      <th>design_note</th>\n",
       "      <th>annee_construction</th>\n",
       "      <th>annee_renovation</th>\n",
       "      <th>m2_interieur_15voisins</th>\n",
       "      <th>m2_jardin_15voisins</th>\n",
       "      <th>zipcode</th>\n",
       "      <th>lat</th>\n",
       "      <th>long</th>\n",
       "      <th>prix_m2</th>\n",
       "    </tr>\n",
       "  </thead>\n",
       "  <tbody>\n",
       "    <tr>\n",
       "      <th>654</th>\n",
       "      <td>2015-03-27T00:00:00Z</td>\n",
       "      <td>700000</td>\n",
       "      <td>4</td>\n",
       "      <td>1.0</td>\n",
       "      <td>120.772947</td>\n",
       "      <td>153414.994426</td>\n",
       "      <td>120.772947</td>\n",
       "      <td>0.0</td>\n",
       "      <td>1.0</td>\n",
       "      <td>0</td>\n",
       "      <td>...</td>\n",
       "      <td>4</td>\n",
       "      <td>6</td>\n",
       "      <td>1920</td>\n",
       "      <td>0</td>\n",
       "      <td>237.829803</td>\n",
       "      <td>39537.439614</td>\n",
       "      <td>98022</td>\n",
       "      <td>47.2313</td>\n",
       "      <td>-122.023</td>\n",
       "      <td>5796.0</td>\n",
       "    </tr>\n",
       "  </tbody>\n",
       "</table>\n",
       "<p>1 rows × 21 columns</p>\n",
       "</div>"
      ],
      "text/plain": [
       "                     date    prix  nb_chambres  nb_sdb  m2_interieur  \\\n",
       "654  2015-03-27T00:00:00Z  700000            4     1.0    120.772947   \n",
       "\n",
       "         m2_jardin    m2_etage  m2_soussol  nb_etages  vue_mer  ...  \\\n",
       "654  153414.994426  120.772947         0.0        1.0        0  ...   \n",
       "\n",
       "     etat_note  design_note  annee_construction  annee_renovation  \\\n",
       "654          4            6                1920                 0   \n",
       "\n",
       "     m2_interieur_15voisins  m2_jardin_15voisins  zipcode      lat     long  \\\n",
       "654              237.829803         39537.439614    98022  47.2313 -122.023   \n",
       "\n",
       "     prix_m2  \n",
       "654   5796.0  \n",
       "\n",
       "[1 rows x 21 columns]"
      ]
     },
     "execution_count": 11,
     "metadata": {},
     "output_type": "execute_result"
    }
   ],
   "source": [
    "train[train['m2_jardin']>140000]"
   ]
  },
  {
   "cell_type": "code",
   "execution_count": 12,
   "metadata": {},
   "outputs": [],
   "source": [
    "train=train[train['m2_jardin']<140000]"
   ]
  },
  {
   "cell_type": "code",
   "execution_count": 13,
   "metadata": {},
   "outputs": [
    {
     "data": {
      "text/html": [
       "<div>\n",
       "<style scoped>\n",
       "    .dataframe tbody tr th:only-of-type {\n",
       "        vertical-align: middle;\n",
       "    }\n",
       "\n",
       "    .dataframe tbody tr th {\n",
       "        vertical-align: top;\n",
       "    }\n",
       "\n",
       "    .dataframe thead th {\n",
       "        text-align: right;\n",
       "    }\n",
       "</style>\n",
       "<table border=\"1\" class=\"dataframe\">\n",
       "  <thead>\n",
       "    <tr style=\"text-align: right;\">\n",
       "      <th></th>\n",
       "      <th>date</th>\n",
       "      <th>prix</th>\n",
       "      <th>nb_chambres</th>\n",
       "      <th>nb_sdb</th>\n",
       "      <th>m2_interieur</th>\n",
       "      <th>m2_jardin</th>\n",
       "      <th>m2_etage</th>\n",
       "      <th>m2_soussol</th>\n",
       "      <th>nb_etages</th>\n",
       "      <th>vue_mer</th>\n",
       "      <th>...</th>\n",
       "      <th>etat_note</th>\n",
       "      <th>design_note</th>\n",
       "      <th>annee_construction</th>\n",
       "      <th>annee_renovation</th>\n",
       "      <th>m2_interieur_15voisins</th>\n",
       "      <th>m2_jardin_15voisins</th>\n",
       "      <th>zipcode</th>\n",
       "      <th>lat</th>\n",
       "      <th>long</th>\n",
       "      <th>prix_m2</th>\n",
       "    </tr>\n",
       "  </thead>\n",
       "  <tbody>\n",
       "    <tr>\n",
       "      <th>16985</th>\n",
       "      <td>2014-06-25T00:00:00Z</td>\n",
       "      <td>640000</td>\n",
       "      <td>33</td>\n",
       "      <td>1.75</td>\n",
       "      <td>150.501672</td>\n",
       "      <td>557.413601</td>\n",
       "      <td>96.618357</td>\n",
       "      <td>53.883315</td>\n",
       "      <td>1.0</td>\n",
       "      <td>0</td>\n",
       "      <td>...</td>\n",
       "      <td>5</td>\n",
       "      <td>7</td>\n",
       "      <td>1947</td>\n",
       "      <td>0</td>\n",
       "      <td>123.560015</td>\n",
       "      <td>436.640654</td>\n",
       "      <td>98103</td>\n",
       "      <td>47.6878</td>\n",
       "      <td>-122.331</td>\n",
       "      <td>4252.444444</td>\n",
       "    </tr>\n",
       "  </tbody>\n",
       "</table>\n",
       "<p>1 rows × 21 columns</p>\n",
       "</div>"
      ],
      "text/plain": [
       "                       date    prix  nb_chambres  nb_sdb  m2_interieur  \\\n",
       "16985  2014-06-25T00:00:00Z  640000           33    1.75    150.501672   \n",
       "\n",
       "        m2_jardin   m2_etage  m2_soussol  nb_etages  vue_mer  ...  etat_note  \\\n",
       "16985  557.413601  96.618357   53.883315        1.0        0  ...          5   \n",
       "\n",
       "       design_note  annee_construction  annee_renovation  \\\n",
       "16985            7                1947                 0   \n",
       "\n",
       "       m2_interieur_15voisins  m2_jardin_15voisins  zipcode      lat     long  \\\n",
       "16985              123.560015           436.640654    98103  47.6878 -122.331   \n",
       "\n",
       "           prix_m2  \n",
       "16985  4252.444444  \n",
       "\n",
       "[1 rows x 21 columns]"
      ]
     },
     "execution_count": 13,
     "metadata": {},
     "output_type": "execute_result"
    }
   ],
   "source": [
    "train[train['nb_chambres']==33]"
   ]
  },
  {
   "cell_type": "code",
   "execution_count": 14,
   "metadata": {},
   "outputs": [],
   "source": [
    "train=train[train['nb_chambres']!=33]"
   ]
  },
  {
   "cell_type": "markdown",
   "metadata": {},
   "source": [
    "### Pb de date"
   ]
  },
  {
   "cell_type": "markdown",
   "metadata": {},
   "source": [
    "Pour avoir les années en secondes (depuis 1970)"
   ]
  },
  {
   "cell_type": "code",
   "execution_count": 15,
   "metadata": {},
   "outputs": [],
   "source": [
    "train['annee']=pd.to_datetime(train['date'],format=\"%Y-%m-%dT%H:%M:%SZ\",utc=True).dt.year\n",
    "train['annee']=train['annee']-2024\n",
    "train['mois']=pd.to_datetime(train['date'],format=\"%Y-%m-%dT%H:%M:%SZ\",utc=True).dt.month\n",
    "train['mois']=train['mois'].astype(int)\n",
    "\n",
    "\n",
    "test['annee']=pd.to_datetime(test['date'],format=\"%Y-%m-%dT%H:%M:%SZ\",utc=True).dt.year\n",
    "test['mois']=pd.to_datetime(test['date'],format=\"%Y-%m-%dT%H:%M:%SZ\",utc=True).dt.month\n",
    "test['mois']=test['mois'].astype(int)\n",
    "test['annee']=test['annee']-2024"
   ]
  },
  {
   "cell_type": "code",
   "execution_count": 16,
   "metadata": {},
   "outputs": [
    {
     "data": {
      "text/plain": [
       "array([ -9, -10])"
      ]
     },
     "execution_count": 16,
     "metadata": {},
     "output_type": "execute_result"
    }
   ],
   "source": [
    "test['annee'].unique()"
   ]
  },
  {
   "cell_type": "code",
   "execution_count": 17,
   "metadata": {},
   "outputs": [],
   "source": [
    "train=train.drop(['date'],axis=1)\n",
    "test=test.drop(['date'],axis=1)"
   ]
  },
  {
   "cell_type": "code",
   "execution_count": 18,
   "metadata": {},
   "outputs": [
    {
     "data": {
      "text/plain": [
       "Index(['prix', 'nb_chambres', 'nb_sdb', 'm2_interieur', 'm2_jardin',\n",
       "       'm2_etage', 'm2_soussol', 'nb_etages', 'vue_mer', 'vue_note',\n",
       "       'etat_note', 'design_note', 'annee_construction', 'annee_renovation',\n",
       "       'm2_interieur_15voisins', 'm2_jardin_15voisins', 'zipcode', 'lat',\n",
       "       'long', 'prix_m2', 'annee', 'mois'],\n",
       "      dtype='object')"
      ]
     },
     "execution_count": 18,
     "metadata": {},
     "output_type": "execute_result"
    }
   ],
   "source": [
    "train.columns"
   ]
  },
  {
   "cell_type": "markdown",
   "metadata": {},
   "source": [
    "# Quand pas rénové ? voir distrib"
   ]
  },
  {
   "cell_type": "code",
   "execution_count": 19,
   "metadata": {},
   "outputs": [],
   "source": [
    "train['annee_construction']=train['annee']-train['annee_construction']\n",
    "test['annee_construction']=test['annee']-test['annee_construction']\n",
    "\n",
    "train['rennovee']=(train['annee_renovation']!=0)*1\n",
    "test['rennovee']=(test['annee_renovation']!=0)*1"
   ]
  },
  {
   "cell_type": "code",
   "execution_count": 20,
   "metadata": {},
   "outputs": [],
   "source": [
    "train['annee_renovation']=(train['annee']-train['annee_renovation'])*(train['rennovee']==1)+(train['annee_construction'])*(train['rennovee']!=1)\n",
    "test['annee_renovation']=(test['annee']-test['annee_renovation'])*(test['rennovee']==1)+(test['annee_construction'])*(test['rennovee']==0)"
   ]
  },
  {
   "cell_type": "markdown",
   "metadata": {},
   "source": [
    "tout le monde a un jardin"
   ]
  },
  {
   "cell_type": "code",
   "execution_count": 21,
   "metadata": {},
   "outputs": [
    {
     "data": {
      "text/plain": [
       "0"
      ]
     },
     "execution_count": 21,
     "metadata": {},
     "output_type": "execute_result"
    }
   ],
   "source": [
    "(train['m2_jardin']==0).sum()"
   ]
  },
  {
   "cell_type": "code",
   "execution_count": 22,
   "metadata": {},
   "outputs": [
    {
     "data": {
      "text/plain": [
       "48.30917874396136"
      ]
     },
     "execution_count": 22,
     "metadata": {},
     "output_type": "execute_result"
    }
   ],
   "source": [
    "(train['m2_jardin']).min()"
   ]
  },
  {
   "cell_type": "markdown",
   "metadata": {},
   "source": [
    "sous sol"
   ]
  },
  {
   "cell_type": "code",
   "execution_count": 23,
   "metadata": {},
   "outputs": [],
   "source": [
    "train['soussol']=(train['m2_soussol']!=0)*1\n",
    "test['soussol']=(test['m2_soussol']!=0)*1"
   ]
  },
  {
   "cell_type": "code",
   "execution_count": 24,
   "metadata": {},
   "outputs": [
    {
     "data": {
      "text/plain": [
       "0.3907489500699953"
      ]
     },
     "execution_count": 24,
     "metadata": {},
     "output_type": "execute_result"
    }
   ],
   "source": [
    "(train['soussol']).mean()"
   ]
  },
  {
   "cell_type": "code",
   "execution_count": 25,
   "metadata": {},
   "outputs": [
    {
     "data": {
      "text/plain": [
       "'for col in train.columns:\\n    plt.hist(train[col],bins=10)\\n    plt.xlabel(col)\\n    plt.show()'"
      ]
     },
     "execution_count": 25,
     "metadata": {},
     "output_type": "execute_result"
    }
   ],
   "source": [
    "\"\"\"for col in train.columns:\n",
    "    plt.hist(train[col],bins=10)\n",
    "    plt.xlabel(col)\n",
    "    plt.show()\"\"\""
   ]
  },
  {
   "cell_type": "code",
   "execution_count": 26,
   "metadata": {},
   "outputs": [],
   "source": [
    "train['mois']=train['mois'].map(lambda x: np.cos(x/12*2*np.pi))\n",
    "test['mois']=test['mois'].map(lambda x: np.cos(x/12*2*np.pi))"
   ]
  },
  {
   "cell_type": "markdown",
   "metadata": {},
   "source": [
    "### zip code cluster"
   ]
  },
  {
   "cell_type": "code",
   "execution_count": 27,
   "metadata": {},
   "outputs": [
    {
     "data": {
      "text/plain": [
       "[<matplotlib.lines.Line2D at 0x219287c36d0>]"
      ]
     },
     "execution_count": 27,
     "metadata": {},
     "output_type": "execute_result"
    },
    {
     "data": {
      "image/png": "[encoded data removed]",
      "text/plain": [
       "<Figure size 640x480 with 1 Axes>"
      ]
     },
     "metadata": {},
     "output_type": "display_data"
    }
   ],
   "source": [
    "plt.plot((list(train.groupby('zipcode')['prix_m2'].mean().sort_values())))\n",
    "plt.plot((list(train.groupby('zipcode')['prix_m2'].mean().sort_values())[:66]))\n",
    "plt.plot((list(train.groupby('zipcode')['prix_m2'].mean().sort_values())[:54]))\n",
    "plt.plot((list(train.groupby('zipcode')['prix_m2'].mean().sort_values())[:44]))\n",
    "plt.plot((list(train.groupby('zipcode')['prix_m2'].mean().sort_values())[:19]))"
   ]
  },
  {
   "cell_type": "code",
   "execution_count": 28,
   "metadata": {},
   "outputs": [
    {
     "name": "stdout",
     "output_type": "stream",
     "text": [
      "4717.068504079405\n",
      "3878.6293718020297\n",
      "2751.055145585218\n",
      "2274.120029064116\n"
     ]
    }
   ],
   "source": [
    "print(list(train.groupby('zipcode')['prix_m2'].mean().sort_values())[66])\n",
    "print(list(train.groupby('zipcode')['prix_m2'].mean().sort_values())[57])\n",
    "print(list(train.groupby('zipcode')['prix_m2'].mean().sort_values())[36])\n",
    "print(list(train.groupby('zipcode')['prix_m2'].mean().sort_values())[20])"
   ]
  },
  {
   "cell_type": "code",
   "execution_count": 29,
   "metadata": {},
   "outputs": [
    {
     "data": {
      "text/plain": [
       "[<matplotlib.lines.Line2D at 0x219288ac790>]"
      ]
     },
     "execution_count": 29,
     "metadata": {},
     "output_type": "execute_result"
    },
    {
     "data": {
      "image/png": "[encoded data removed]",
      "text/plain": [
       "<Figure size 640x480 with 1 Axes>"
      ]
     },
     "metadata": {},
     "output_type": "display_data"
    }
   ],
   "source": [
    "plt.plot((list(train.groupby('zipcode')['prix'].mean().sort_values())))\n",
    "plt.plot((list(train.groupby('zipcode')['prix'].mean().sort_values())[:66]))\n",
    "plt.plot((list(train.groupby('zipcode')['prix'].mean().sort_values())[:57]))\n",
    "plt.plot((list(train.groupby('zipcode')['prix'].mean().sort_values())[:36]))\n",
    "plt.plot((list(train.groupby('zipcode')['prix'].mean().sort_values())[:20]))"
   ]
  },
  {
   "cell_type": "code",
   "execution_count": 30,
   "metadata": {},
   "outputs": [
    {
     "name": "stdout",
     "output_type": "stream",
     "text": [
      "1113449.2976744187\n",
      "794332.0592885376\n",
      "515462.58086560364\n",
      "369246.3347457627\n"
     ]
    }
   ],
   "source": [
    "print(list(train.groupby('zipcode')['prix'].mean().sort_values())[66])\n",
    "print(list(train.groupby('zipcode')['prix'].mean().sort_values())[57])\n",
    "print(list(train.groupby('zipcode')['prix'].mean().sort_values())[36])\n",
    "print(list(train.groupby('zipcode')['prix'].mean().sort_values())[20])"
   ]
  },
  {
   "cell_type": "code",
   "execution_count": 31,
   "metadata": {},
   "outputs": [],
   "source": [
    "a=list((train.groupby('zipcode')['prix_m2'].mean()[train.groupby('zipcode')['prix_m2'].mean()>=4717.068504079405]).index)"
   ]
  },
  {
   "cell_type": "code",
   "execution_count": 32,
   "metadata": {},
   "outputs": [],
   "source": [
    "b=list((train.groupby('zipcode')['prix_m2'].mean()[(3878.6293718020297<=train.groupby('zipcode')['prix_m2'].mean())*(train.groupby('zipcode')['prix_m2'].mean()<4717.068504079405)]).index)"
   ]
  },
  {
   "cell_type": "code",
   "execution_count": 33,
   "metadata": {},
   "outputs": [],
   "source": [
    "c=list((train.groupby('zipcode')['prix_m2'].mean()[(2751.055145585218<=train.groupby('zipcode')['prix_m2'].mean())*(train.groupby('zipcode')['prix_m2'].mean()<3878.6293718020297)]).index)"
   ]
  },
  {
   "cell_type": "code",
   "execution_count": 34,
   "metadata": {},
   "outputs": [],
   "source": [
    "d=list((train.groupby('zipcode')['prix_m2'].mean()[(2274.120029064116<=train.groupby('zipcode')['prix_m2'].mean())*(train.groupby('zipcode')['prix_m2'].mean()<2751.055145585218)]).index)"
   ]
  },
  {
   "cell_type": "code",
   "execution_count": 35,
   "metadata": {},
   "outputs": [],
   "source": [
    "e=list((train.groupby('zipcode')['prix_m2'].mean()[(train.groupby('zipcode')['prix_m2'].mean()<2274.120029064116)]).index)"
   ]
  },
  {
   "cell_type": "code",
   "execution_count": 36,
   "metadata": {},
   "outputs": [],
   "source": [
    "def fonc(x):\n",
    "    if x in a:\n",
    "        return 0\n",
    "    elif x in b:\n",
    "        return 1\n",
    "    elif x in c:\n",
    "        return 2\n",
    "    elif x in d:\n",
    "        return 3\n",
    "    elif x in e:\n",
    "        return 4\n",
    "    else:\n",
    "        return 5"
   ]
  },
  {
   "cell_type": "code",
   "execution_count": 37,
   "metadata": {},
   "outputs": [],
   "source": [
    "train['zipcode_cluster']=train['zipcode'].transform(lambda x: fonc(x))"
   ]
  },
  {
   "cell_type": "code",
   "execution_count": 38,
   "metadata": {},
   "outputs": [],
   "source": [
    "test['zipcode_cluster']=test['zipcode'].transform(lambda x: fonc(x))"
   ]
  },
  {
   "cell_type": "code",
   "execution_count": 39,
   "metadata": {},
   "outputs": [
    {
     "data": {
      "text/plain": [
       "array([2, 4, 1, 3, 0], dtype=int64)"
      ]
     },
     "execution_count": 39,
     "metadata": {},
     "output_type": "execute_result"
    }
   ],
   "source": [
    "test['zipcode_cluster'].unique()"
   ]
  },
  {
   "cell_type": "code",
   "execution_count": 40,
   "metadata": {},
   "outputs": [],
   "source": [
    "train=train.drop('zipcode',axis=1)\n",
    "test=test.drop('zipcode',axis=1)"
   ]
  },
  {
   "cell_type": "markdown",
   "metadata": {},
   "source": [
    "### Correlation"
   ]
  },
  {
   "cell_type": "code",
   "execution_count": 41,
   "metadata": {},
   "outputs": [
    {
     "data": {
      "text/plain": [
       "<Axes: >"
      ]
     },
     "execution_count": 41,
     "metadata": {},
     "output_type": "execute_result"
    },
    {
     "data": {
      "image/png": "[encoded data removed]",
      "text/plain": [
       "<Figure size 640x480 with 2 Axes>"
      ]
     },
     "metadata": {},
     "output_type": "display_data"
    }
   ],
   "source": [
    "sns.heatmap(train.corr())"
   ]
  },
  {
   "cell_type": "markdown",
   "metadata": {},
   "source": [
    "Map plot"
   ]
  },
  {
   "cell_type": "code",
   "execution_count": 42,
   "metadata": {},
   "outputs": [
    {
     "data": {
      "text/plain": [
       "<matplotlib.collections.PathCollection at 0x21928a1eb10>"
      ]
     },
     "execution_count": 42,
     "metadata": {},
     "output_type": "execute_result"
    },
    {
     "data": {
      "image/png": "[encoded data removed]",
      "text/plain": [
       "<Figure size 640x480 with 1 Axes>"
      ]
     },
     "metadata": {},
     "output_type": "display_data"
    }
   ],
   "source": [
    "plt.scatter(train['lat'],train['long'])"
   ]
  },
  {
   "cell_type": "markdown",
   "metadata": {},
   "source": [
    "### date et position pour feature engineering (densité ?)"
   ]
  },
  {
   "cell_type": "code",
   "execution_count": 43,
   "metadata": {},
   "outputs": [
    {
     "data": {
      "text/plain": [
       "'pip install folium'"
      ]
     },
     "execution_count": 43,
     "metadata": {},
     "output_type": "execute_result"
    }
   ],
   "source": [
    "\"\"\"pip install folium\"\"\""
   ]
  },
  {
   "cell_type": "code",
   "execution_count": 44,
   "metadata": {},
   "outputs": [
    {
     "data": {
      "text/plain": [
       "'import folium\\nfrom folium.plugins import MarkerCluster\\nimport pandas as pd\\n\\n\\n\\n# Create map\\nm = folium.Map(location=[47.5, -122], zoom_start=10)\\n\\n# Add Marker Cluster\\nmarker_cluster = MarkerCluster().add_to(m)\\n\\n# Add points to cluster\\nfor idx, row in train.iterrows():\\n    folium.Marker([row[\"lat\"], row[\"long\"]]).add_to(marker_cluster)\\n\\n# Save and display\\nm.save(\"optimized_map.html\")\\nm'"
      ]
     },
     "execution_count": 44,
     "metadata": {},
     "output_type": "execute_result"
    }
   ],
   "source": [
    "\"\"\"import folium\n",
    "from folium.plugins import MarkerCluster\n",
    "import pandas as pd\n",
    "\n",
    "\n",
    "\n",
    "# Create map\n",
    "m = folium.Map(location=[47.5, -122], zoom_start=10)\n",
    "\n",
    "# Add Marker Cluster\n",
    "marker_cluster = MarkerCluster().add_to(m)\n",
    "\n",
    "# Add points to cluster\n",
    "for idx, row in train.iterrows():\n",
    "    folium.Marker([row[\"lat\"], row[\"long\"]]).add_to(marker_cluster)\n",
    "\n",
    "# Save and display\n",
    "m.save(\"optimized_map.html\")\n",
    "m\"\"\""
   ]
  },
  {
   "cell_type": "markdown",
   "metadata": {},
   "source": [
    "## Etude PCA"
   ]
  },
  {
   "cell_type": "code",
   "execution_count": 45,
   "metadata": {},
   "outputs": [],
   "source": [
    "col_cluster=train.drop(['prix','prix_m2'],axis=1).columns"
   ]
  },
  {
   "cell_type": "code",
   "execution_count": 46,
   "metadata": {},
   "outputs": [],
   "source": [
    "import sys\n",
    "sys.path.append('C:/Users/morea/Downloads/')\n",
    "import _analyse_facto as af"
   ]
  },
  {
   "cell_type": "code",
   "execution_count": 47,
   "metadata": {},
   "outputs": [
    {
     "data": {
      "text/plain": [
       "Index(['prix', 'nb_chambres', 'nb_sdb', 'm2_interieur', 'm2_jardin',\n",
       "       'm2_etage', 'm2_soussol', 'nb_etages', 'vue_mer', 'vue_note',\n",
       "       'etat_note', 'design_note', 'annee_construction', 'annee_renovation',\n",
       "       'm2_interieur_15voisins', 'm2_jardin_15voisins', 'lat', 'long',\n",
       "       'prix_m2', 'annee', 'mois', 'rennovee', 'soussol', 'zipcode_cluster'],\n",
       "      dtype='object')"
      ]
     },
     "execution_count": 47,
     "metadata": {},
     "output_type": "execute_result"
    }
   ],
   "source": [
    "train.columns"
   ]
  },
  {
   "cell_type": "code",
   "execution_count": null,
   "metadata": {},
   "outputs": [
    {
     "data": {
      "image/png": "[encoded data removed]",
      "text/plain": [
       "<Figure size 600x400 with 1 Axes>"
      ]
     },
     "metadata": {},
     "output_type": "display_data"
    },
    {
     "data": {
      "image/png": "[encoded data removed]",
      "text/plain": [
       "<Figure size 600x400 with 1 Axes>"
      ]
     },
     "metadata": {},
     "output_type": "display_data"
    },
    {
     "data": {
      "image/png": "[encoded data removed]",
      "text/plain": [
       "<Figure size 600x400 with 1 Axes>"
      ]
     },
     "metadata": {},
     "output_type": "display_data"
    }
   ],
   "source": [
    "\"\"\"acp_out, data_acp_out = af.ACP_interp(data_acp=train[col_cluster],\n",
    "                                      acp_norm='oui',\n",
    "                                      choix_n_cp='oui',\n",
    "                                      cercle='non',\n",
    "                                      projection='non', label_indiv='non',\n",
    "                                      cp_x=1, cp_y=2)\"\"\""
   ]
  },
  {
   "cell_type": "code",
   "execution_count": null,
   "metadata": {},
   "outputs": [
    {
     "data": {
      "image/png": "[encoded data removed]",
      "text/plain": [
       "<Figure size 600x600 with 1 Axes>"
      ]
     },
     "metadata": {},
     "output_type": "display_data"
    }
   ],
   "source": [
    "\"\"\"acp_out, data_acp_out = af.ACP_interp(data_acp=train[col_cluster],\n",
    "                                      acp_norm='oui',\n",
    "                                      choix_n_cp='non',\n",
    "                                      cercle='oui',\n",
    "                                      projection='non', label_indiv='non',\n",
    "                                      cp_x=1, cp_y=2)\"\"\""
   ]
  },
  {
   "cell_type": "markdown",
   "metadata": {},
   "source": [
    "## Cluster"
   ]
  },
  {
   "cell_type": "code",
   "execution_count": 50,
   "metadata": {},
   "outputs": [],
   "source": [
    "train = pd.get_dummies(train, columns=['zipcode_cluster'], dtype='int', drop_first=False)\n",
    "test = pd.get_dummies(test, columns=['zipcode_cluster'], dtype='int', drop_first=False)"
   ]
  },
  {
   "cell_type": "code",
   "execution_count": 51,
   "metadata": {},
   "outputs": [],
   "source": [
    "from scipy.cluster.hierarchy import dendrogram\n",
    "from sklearn.cluster import AgglomerativeClustering\n",
    "import numpy as np\n",
    "\n",
    "\n",
    "from sklearn.preprocessing import StandardScaler"
   ]
  },
  {
   "cell_type": "code",
   "execution_count": 52,
   "metadata": {},
   "outputs": [
    {
     "data": {
      "text/plain": [
       "Index(['prix', 'nb_chambres', 'nb_sdb', 'm2_interieur', 'm2_jardin',\n",
       "       'm2_etage', 'm2_soussol', 'nb_etages', 'vue_mer', 'vue_note',\n",
       "       'etat_note', 'design_note', 'annee_construction', 'annee_renovation',\n",
       "       'm2_interieur_15voisins', 'm2_jardin_15voisins', 'lat', 'long',\n",
       "       'prix_m2', 'annee', 'mois', 'rennovee', 'soussol', 'zipcode_cluster_0',\n",
       "       'zipcode_cluster_1', 'zipcode_cluster_2', 'zipcode_cluster_3',\n",
       "       'zipcode_cluster_4'],\n",
       "      dtype='object')"
      ]
     },
     "execution_count": 52,
     "metadata": {},
     "output_type": "execute_result"
    }
   ],
   "source": [
    "train.columns"
   ]
  },
  {
   "cell_type": "code",
   "execution_count": 53,
   "metadata": {},
   "outputs": [],
   "source": [
    "col_cluster=train.drop(['prix','prix_m2'],axis=1).columns"
   ]
  },
  {
   "cell_type": "code",
   "execution_count": 54,
   "metadata": {},
   "outputs": [],
   "source": [
    "#col_cluster=col_cluster[:-1]"
   ]
  },
  {
   "cell_type": "code",
   "execution_count": 55,
   "metadata": {},
   "outputs": [
    {
     "data": {
      "text/plain": [
       "Index(['nb_chambres', 'nb_sdb', 'm2_interieur', 'm2_jardin', 'm2_etage',\n",
       "       'm2_soussol', 'nb_etages', 'vue_mer', 'vue_note', 'etat_note',\n",
       "       'design_note', 'annee_construction', 'annee_renovation',\n",
       "       'm2_interieur_15voisins', 'm2_jardin_15voisins', 'lat', 'long', 'annee',\n",
       "       'mois', 'rennovee', 'soussol', 'zipcode_cluster_0', 'zipcode_cluster_1',\n",
       "       'zipcode_cluster_2', 'zipcode_cluster_3', 'zipcode_cluster_4'],\n",
       "      dtype='object')"
      ]
     },
     "execution_count": 55,
     "metadata": {},
     "output_type": "execute_result"
    }
   ],
   "source": [
    "col_cluster"
   ]
  },
  {
   "cell_type": "code",
   "execution_count": 56,
   "metadata": {},
   "outputs": [],
   "source": [
    "col_cluster=train.drop(['prix'],axis=1).columns\n",
    "\n",
    "\n",
    "mean_std_scaler = StandardScaler().fit(train[col_cluster])\n",
    "train_cluster = mean_std_scaler.transform(train[col_cluster])"
   ]
  },
  {
   "cell_type": "code",
   "execution_count": 57,
   "metadata": {},
   "outputs": [],
   "source": [
    "mean_std_scaler = StandardScaler().fit(test)\n",
    "test_cluster = mean_std_scaler.transform(test)"
   ]
  },
  {
   "cell_type": "code",
   "execution_count": 58,
   "metadata": {},
   "outputs": [],
   "source": [
    "def plot_dendrogram(model, **kwargs):\n",
    "    # Create linkage matrix and then plot the dendrogram\n",
    "\n",
    "    # create the counts of samples under each node\n",
    "    counts = np.zeros(model.children_.shape[0])\n",
    "    n_samples = len(model.labels_)\n",
    "    for i, merge in enumerate(model.children_):\n",
    "        current_count = 0\n",
    "        for child_idx in merge:\n",
    "            if child_idx < n_samples:\n",
    "                current_count += 1  # leaf node\n",
    "            else:\n",
    "                current_count += counts[child_idx - n_samples]\n",
    "        counts[i] = current_count\n",
    "\n",
    "    linkage_matrix = np.column_stack([model.children_, model.distances_, counts]).astype(float)\n",
    "\n",
    "    # Plot the corresponding dendrogram\n",
    "    dendrogram(linkage_matrix, **kwargs)"
   ]
  },
  {
   "cell_type": "code",
   "execution_count": 59,
   "metadata": {},
   "outputs": [
    {
     "data": {
      "text/plain": [
       "\"cah_model = AgglomerativeClustering(distance_threshold=0,\\n                                       metric='euclidean',\\n                                       linkage='ward',\\n                                       n_clusters=None)\\ncah = cah_model.fit(train_cluster)\""
      ]
     },
     "execution_count": 59,
     "metadata": {},
     "output_type": "execute_result"
    }
   ],
   "source": [
    "\"\"\"cah_model = AgglomerativeClustering(distance_threshold=0,\n",
    "                                       metric='euclidean',\n",
    "                                       linkage='ward',\n",
    "                                       n_clusters=None)\n",
    "cah = cah_model.fit(train_cluster)\"\"\""
   ]
  },
  {
   "cell_type": "code",
   "execution_count": 60,
   "metadata": {},
   "outputs": [
    {
     "data": {
      "text/plain": [
       "'plt.subplots(figsize=(10, 6))\\nplt.title(\\'CAH : distance euclidienne & stratégie de Ward\\')\\n# plot the top three levels of the dendrogram\\nplot_dendrogram(cah, truncate_mode=\"level\", p=10)\\nplt.show()'"
      ]
     },
     "execution_count": 60,
     "metadata": {},
     "output_type": "execute_result"
    }
   ],
   "source": [
    "\"\"\"plt.subplots(figsize=(10, 6))\n",
    "plt.title('CAH : distance euclidienne & stratégie de Ward')\n",
    "# plot the top three levels of the dendrogram\n",
    "plot_dendrogram(cah, truncate_mode=\"level\", p=10)\n",
    "plt.show()\"\"\""
   ]
  },
  {
   "cell_type": "code",
   "execution_count": 61,
   "metadata": {},
   "outputs": [],
   "source": [
    "n=train.shape[0]"
   ]
  },
  {
   "cell_type": "code",
   "execution_count": 62,
   "metadata": {},
   "outputs": [
    {
     "data": {
      "text/plain": [
       "\"k_max = 30\\n\\nfig, ax = plt.subplots(figsize=(8, 4))\\nax.vlines(range(2, k_max+1), 0, np.flip(np.sort(cah.distances_))[0:k_max-1], linewidth=5)\\nax.set_xticks(range(2, k_max+1))\\nax.grid()\\nax.set_xlabel('K')\\nax.set_ylabel('Hauteur')\\nplt.title('Passage de K à (K-1) clusters')\\nplt.show()\""
      ]
     },
     "execution_count": 62,
     "metadata": {},
     "output_type": "execute_result"
    }
   ],
   "source": [
    "\"\"\"k_max = 30\n",
    "\n",
    "fig, ax = plt.subplots(figsize=(8, 4))\n",
    "ax.vlines(range(2, k_max+1), 0, np.flip(np.sort(cah.distances_))[0:k_max-1], linewidth=5)\n",
    "ax.set_xticks(range(2, k_max+1))\n",
    "ax.grid()\n",
    "ax.set_xlabel('K')\n",
    "ax.set_ylabel('Hauteur')\n",
    "plt.title('Passage de K à (K-1) clusters')\n",
    "plt.show()\"\"\""
   ]
  },
  {
   "cell_type": "code",
   "execution_count": 63,
   "metadata": {},
   "outputs": [
    {
     "data": {
      "text/plain": [
       "cluster_cah_ward\n",
       "1    6572\n",
       "0    6466\n",
       "2    4106\n",
       "Name: count, dtype: int64"
      ]
     },
     "execution_count": 63,
     "metadata": {},
     "output_type": "execute_result"
    }
   ],
   "source": [
    "K = 3\n",
    "\n",
    "cah_model = AgglomerativeClustering(metric='euclidean',\n",
    "                                   linkage='ward',\n",
    "                                   n_clusters=K)\n",
    "cah = cah_model.fit(train_cluster)\n",
    "\n",
    "train['cluster_cah_ward'] = cah.fit_predict(train_cluster)\n",
    "train['cluster_cah_ward'].value_counts()"
   ]
  },
  {
   "cell_type": "code",
   "execution_count": 64,
   "metadata": {},
   "outputs": [
    {
     "data": {
      "text/plain": [
       "cluster_cah_ward\n",
       "1    1829\n",
       "0    1324\n",
       "2    1134\n",
       "Name: count, dtype: int64"
      ]
     },
     "execution_count": 64,
     "metadata": {},
     "output_type": "execute_result"
    }
   ],
   "source": [
    "test['cluster_cah_ward'] = cah.fit_predict(test_cluster)\n",
    "test['cluster_cah_ward'].value_counts()"
   ]
  },
  {
   "cell_type": "code",
   "execution_count": 65,
   "metadata": {},
   "outputs": [
    {
     "data": {
      "text/plain": [
       "\"fig, ax = plt.subplots(figsize=(12, 8))\\nplt.scatter(train['long'], train['lat'],c=train['cluster_cah_ward'],linewidths=0.2)\""
      ]
     },
     "execution_count": 65,
     "metadata": {},
     "output_type": "execute_result"
    }
   ],
   "source": [
    "\"\"\"fig, ax = plt.subplots(figsize=(12, 8))\n",
    "plt.scatter(train['long'], train['lat'],c=train['cluster_cah_ward'],linewidths=0.2)\"\"\""
   ]
  },
  {
   "cell_type": "code",
   "execution_count": 66,
   "metadata": {},
   "outputs": [
    {
     "data": {
      "text/plain": [
       "'i=0\\nfor stat in train.columns:\\n    plt.figure(i)\\n    plt.ylabel(\"prix\")\\n    plt.xlabel(str(stat))\\n    plt.scatter(train[stat], train[\\'prix\\'],c=train[\\'cluster_cah_ward\\'])\\n    i+=1\\nplt.show()'"
      ]
     },
     "execution_count": 66,
     "metadata": {},
     "output_type": "execute_result"
    }
   ],
   "source": [
    "\"\"\"i=0\n",
    "for stat in train.columns:\n",
    "    plt.figure(i)\n",
    "    plt.ylabel(\"prix\")\n",
    "    plt.xlabel(str(stat))\n",
    "    plt.scatter(train[stat], train['prix'],c=train['cluster_cah_ward'])\n",
    "    i+=1\n",
    "plt.show()\"\"\""
   ]
  },
  {
   "cell_type": "markdown",
   "metadata": {},
   "source": [
    "## Regression"
   ]
  },
  {
   "cell_type": "code",
   "execution_count": 67,
   "metadata": {},
   "outputs": [],
   "source": [
    "from sklearn.linear_model import LinearRegression\n",
    "from statsmodels.api import OLS\n",
    "from statsmodels.tools import add_constant\n",
    "import itertools "
   ]
  },
  {
   "cell_type": "code",
   "execution_count": 68,
   "metadata": {},
   "outputs": [
    {
     "name": "stdout",
     "output_type": "stream",
     "text": [
      "<class 'pandas.core.frame.DataFrame'>\n",
      "Index: 17144 entries, 0 to 17146\n",
      "Data columns (total 29 columns):\n",
      " #   Column                  Non-Null Count  Dtype  \n",
      "---  ------                  --------------  -----  \n",
      " 0   prix                    17144 non-null  int64  \n",
      " 1   nb_chambres             17144 non-null  int64  \n",
      " 2   nb_sdb                  17144 non-null  float64\n",
      " 3   m2_interieur            17144 non-null  float64\n",
      " 4   m2_jardin               17144 non-null  float64\n",
      " 5   m2_etage                17144 non-null  float64\n",
      " 6   m2_soussol              17144 non-null  float64\n",
      " 7   nb_etages               17144 non-null  float64\n",
      " 8   vue_mer                 17144 non-null  int64  \n",
      " 9   vue_note                17144 non-null  int64  \n",
      " 10  etat_note               17144 non-null  int64  \n",
      " 11  design_note             17144 non-null  int64  \n",
      " 12  annee_construction      17144 non-null  int64  \n",
      " 13  annee_renovation        17144 non-null  int64  \n",
      " 14  m2_interieur_15voisins  17144 non-null  float64\n",
      " 15  m2_jardin_15voisins     17144 non-null  float64\n",
      " 16  lat                     17144 non-null  float64\n",
      " 17  long                    17144 non-null  float64\n",
      " 18  prix_m2                 17144 non-null  float64\n",
      " 19  annee                   17144 non-null  int32  \n",
      " 20  mois                    17144 non-null  float64\n",
      " 21  rennovee                17144 non-null  int32  \n",
      " 22  soussol                 17144 non-null  int32  \n",
      " 23  zipcode_cluster_0       17144 non-null  int32  \n",
      " 24  zipcode_cluster_1       17144 non-null  int32  \n",
      " 25  zipcode_cluster_2       17144 non-null  int32  \n",
      " 26  zipcode_cluster_3       17144 non-null  int32  \n",
      " 27  zipcode_cluster_4       17144 non-null  int32  \n",
      " 28  cluster_cah_ward        17144 non-null  int64  \n",
      "dtypes: float64(12), int32(8), int64(9)\n",
      "memory usage: 3.4 MB\n"
     ]
    }
   ],
   "source": [
    "train.info()"
   ]
  },
  {
   "cell_type": "code",
   "execution_count": 69,
   "metadata": {},
   "outputs": [],
   "source": [
    "train = pd.get_dummies(train, columns=['cluster_cah_ward'], dtype='int', drop_first=False)\n",
    "test = pd.get_dummies(test, columns=['cluster_cah_ward'], dtype='int', drop_first=False)"
   ]
  },
  {
   "cell_type": "code",
   "execution_count": 70,
   "metadata": {},
   "outputs": [
    {
     "data": {
      "text/plain": [
       "\"def AIC_BIC_linreg(X, y, features):\\n    linreg_model = OLS(y, X[list(features)])\\n    linreg = linreg_model.fit()\\n    AIC = linreg.aic\\n    BIC = linreg.bic\\n    return {'model':linreg, 'AIC':AIC, 'BIC':BIC}\\n\\ndef linreg_forward_predictors(X, y, predictors, crit='BIC', verbose=True):\\n    results=[]\\n    remaining_predictors = [p for p in X.columns.difference(['const']) if p not in predictors]\\n\\n    for p in remaining_predictors:\\n        results.append(AIC_BIC_linreg(X=X, y=y, features=predictors+[p]+['const']))\\n    models = pd.DataFrame(results)\\n\\n    if crit == 'AIC':\\n        best_model = models.loc[models['AIC'].argmin()]\\n    else:\\n        best_model = models.loc[models['BIC'].argmin()]\\n\\n    if verbose == True:\\n        print('Selected predictors:', best_model['model'].model.exog_names, 'AIC:', best_model['model'].aic, 'BIC:', best_model['model'].bic)\\n\\n    return best_model\\n\\ndef linreg_forward_proc(X, y, crit='BIC', verbose=True):\\n    forward_models = pd.DataFrame(columns=['AIC', 'BIC', 'model'])\\n    predictors = []\\n\\n    for i in range(1, len(X.columns.difference(['const'])) + 1):\\n        forward_result = linreg_forward_predictors(X=X, y=y, predictors=predictors, crit=crit, verbose=verbose)\\n        if i > 1:\\n            if forward_result[crit] > forward_model_before:\\n                break\\n        forward_models.loc[i] = forward_result\\n        predictors = forward_models.loc[i]['model'].model.exog_names\\n        forward_model_before = forward_models.loc[i][crit]\\n        predictors = [k for k in predictors if k != 'const']\\n\\n    return(forward_models['model'][len(forward_models['model'])])\\n\\n\\ny=train['prix_m2']\\nX=train.drop(['prix','prix_m2'], axis=1)\\nlinreg_forward = linreg_forward_proc(add_constant(X), y, crit='AIC', verbose=True)\""
      ]
     },
     "execution_count": 70,
     "metadata": {},
     "output_type": "execute_result"
    }
   ],
   "source": [
    "\"\"\"def AIC_BIC_linreg(X, y, features):\n",
    "    linreg_model = OLS(y, X[list(features)])\n",
    "    linreg = linreg_model.fit()\n",
    "    AIC = linreg.aic\n",
    "    BIC = linreg.bic\n",
    "    return {'model':linreg, 'AIC':AIC, 'BIC':BIC}\n",
    "\n",
    "def linreg_forward_predictors(X, y, predictors, crit='BIC', verbose=True):\n",
    "    results=[]\n",
    "    remaining_predictors = [p for p in X.columns.difference(['const']) if p not in predictors]\n",
    "\n",
    "    for p in remaining_predictors:\n",
    "        results.append(AIC_BIC_linreg(X=X, y=y, features=predictors+[p]+['const']))\n",
    "    models = pd.DataFrame(results)\n",
    "\n",
    "    if crit == 'AIC':\n",
    "        best_model = models.loc[models['AIC'].argmin()]\n",
    "    else:\n",
    "        best_model = models.loc[models['BIC'].argmin()]\n",
    "\n",
    "    if verbose == True:\n",
    "        print('Selected predictors:', best_model['model'].model.exog_names, 'AIC:', best_model['model'].aic, 'BIC:', best_model['model'].bic)\n",
    "\n",
    "    return best_model\n",
    "\n",
    "def linreg_forward_proc(X, y, crit='BIC', verbose=True):\n",
    "    forward_models = pd.DataFrame(columns=['AIC', 'BIC', 'model'])\n",
    "    predictors = []\n",
    "\n",
    "    for i in range(1, len(X.columns.difference(['const'])) + 1):\n",
    "        forward_result = linreg_forward_predictors(X=X, y=y, predictors=predictors, crit=crit, verbose=verbose)\n",
    "        if i > 1:\n",
    "            if forward_result[crit] > forward_model_before:\n",
    "                break\n",
    "        forward_models.loc[i] = forward_result\n",
    "        predictors = forward_models.loc[i]['model'].model.exog_names\n",
    "        forward_model_before = forward_models.loc[i][crit]\n",
    "        predictors = [k for k in predictors if k != 'const']\n",
    "\n",
    "    return(forward_models['model'][len(forward_models['model'])])\n",
    "\n",
    "\n",
    "y=train['prix_m2']\n",
    "X=train.drop(['prix','prix_m2'], axis=1)\n",
    "linreg_forward = linreg_forward_proc(add_constant(X), y, crit='AIC', verbose=True)\"\"\""
   ]
  },
  {
   "cell_type": "markdown",
   "metadata": {},
   "source": [
    "juste pas soussol"
   ]
  },
  {
   "cell_type": "code",
   "execution_count": 71,
   "metadata": {},
   "outputs": [
    {
     "data": {
      "text/plain": [
       "27"
      ]
     },
     "execution_count": 71,
     "metadata": {},
     "output_type": "execute_result"
    }
   ],
   "source": [
    "len(['zipcode_cluster_4', 'zipcode_cluster_3', 'zipcode_cluster_2', 'vue_mer', 'nb_chambres', 'zipcode_cluster_0', 'cluster_cah_ward_2', 'vue_note', 'm2_soussol', 'lat', 'etat_note', 'annee', 'design_note', 'm2_etage', 'm2_interieur_15voisins', 'annee_construction', 'm2_jardin', 'rennovee', 'nb_sdb', 'nb_etages', 'cluster_cah_ward_0', 'mois', 'm2_jardin_15voisins', 'long', 'annee_renovation', 'cluster_cah_ward_1', 'zipcode_cluster_1'])"
   ]
  },
  {
   "cell_type": "code",
   "execution_count": 72,
   "metadata": {},
   "outputs": [
    {
     "data": {
      "text/plain": [
       "Index(['prix', 'nb_chambres', 'nb_sdb', 'm2_interieur', 'm2_jardin',\n",
       "       'm2_etage', 'm2_soussol', 'nb_etages', 'vue_mer', 'vue_note',\n",
       "       'etat_note', 'design_note', 'annee_construction', 'annee_renovation',\n",
       "       'm2_interieur_15voisins', 'm2_jardin_15voisins', 'lat', 'long',\n",
       "       'prix_m2', 'annee', 'mois', 'rennovee', 'soussol', 'zipcode_cluster_0',\n",
       "       'zipcode_cluster_1', 'zipcode_cluster_2', 'zipcode_cluster_3',\n",
       "       'zipcode_cluster_4', 'cluster_cah_ward_0', 'cluster_cah_ward_1',\n",
       "       'cluster_cah_ward_2'],\n",
       "      dtype='object')"
      ]
     },
     "execution_count": 72,
     "metadata": {},
     "output_type": "execute_result"
    }
   ],
   "source": [
    "train.columns"
   ]
  },
  {
   "cell_type": "code",
   "execution_count": 73,
   "metadata": {},
   "outputs": [
    {
     "data": {
      "text/plain": [
       "\"def linreg_backward_predictors(X, y, predictors, crit='BIC', verbose=True):\\n    results = []\\n    \\n    for combi in itertools.combinations(predictors, len(predictors)-1):\\n        results.append(AIC_BIC_linreg(X=X, y=y, features=list(combi)+['const']))\\n    models = pd.DataFrame(results)\\n    \\n    if crit == 'AIC':\\n        best_model = models.loc[models['AIC'].argmin()]\\n    else:\\n        best_model = models.loc[models['BIC'].argmin()]\\n    \\n    if verbose == True:\\n        print('Selected predictors:', best_model['model'].model.exog_names, 'AIC:', best_model['model'].aic, 'BIC:', best_model['model'].bic)\\n    \\n    return best_model\\n\\ndef linreg_backward_proc(X, y, crit='BIC', verbose=True):\\n    backward_models = pd.DataFrame(columns=['AIC', 'BIC', 'model'])\\n    predictors = list(X.columns.difference(['const']))\\n    \\n    for i in range(1, len(X.columns.difference(['const'])) + 1):\\n        backward_result = linreg_backward_predictors(X=X, y=y, predictors=predictors, crit=crit, verbose=verbose)\\n        if i > 1:\\n            if backward_result[crit] > backward_model_before:\\n                break\\n        backward_models.loc[i] = backward_result\\n        predictors = backward_models.loc[i]['model'].model.exog_names\\n        backward_model_before = backward_models.loc[i][crit]\\n        predictors = [k for k in predictors if k != 'const']\\n    \\n    return(backward_models['model'][len(backward_models['model'])])\\n\\n\\ny=train['prix_m2']\\nX=train.drop(['prix','prix_m2'], axis=1)\\nlinreg_backward = linreg_backward_proc(add_constant(X), y, crit='AIC', verbose=True)\""
      ]
     },
     "execution_count": 73,
     "metadata": {},
     "output_type": "execute_result"
    }
   ],
   "source": [
    "\"\"\"def linreg_backward_predictors(X, y, predictors, crit='BIC', verbose=True):\n",
    "    results = []\n",
    "    \n",
    "    for combi in itertools.combinations(predictors, len(predictors)-1):\n",
    "        results.append(AIC_BIC_linreg(X=X, y=y, features=list(combi)+['const']))\n",
    "    models = pd.DataFrame(results)\n",
    "    \n",
    "    if crit == 'AIC':\n",
    "        best_model = models.loc[models['AIC'].argmin()]\n",
    "    else:\n",
    "        best_model = models.loc[models['BIC'].argmin()]\n",
    "    \n",
    "    if verbose == True:\n",
    "        print('Selected predictors:', best_model['model'].model.exog_names, 'AIC:', best_model['model'].aic, 'BIC:', best_model['model'].bic)\n",
    "    \n",
    "    return best_model\n",
    "\n",
    "def linreg_backward_proc(X, y, crit='BIC', verbose=True):\n",
    "    backward_models = pd.DataFrame(columns=['AIC', 'BIC', 'model'])\n",
    "    predictors = list(X.columns.difference(['const']))\n",
    "    \n",
    "    for i in range(1, len(X.columns.difference(['const'])) + 1):\n",
    "        backward_result = linreg_backward_predictors(X=X, y=y, predictors=predictors, crit=crit, verbose=verbose)\n",
    "        if i > 1:\n",
    "            if backward_result[crit] > backward_model_before:\n",
    "                break\n",
    "        backward_models.loc[i] = backward_result\n",
    "        predictors = backward_models.loc[i]['model'].model.exog_names\n",
    "        backward_model_before = backward_models.loc[i][crit]\n",
    "        predictors = [k for k in predictors if k != 'const']\n",
    "    \n",
    "    return(backward_models['model'][len(backward_models['model'])])\n",
    "\n",
    "\n",
    "y=train['prix_m2']\n",
    "X=train.drop(['prix','prix_m2'], axis=1)\n",
    "linreg_backward = linreg_backward_proc(add_constant(X), y, crit='AIC', verbose=True)\"\"\""
   ]
  },
  {
   "cell_type": "markdown",
   "metadata": {},
   "source": [
    "pas zipcode cluster 4 et soussol"
   ]
  },
  {
   "cell_type": "code",
   "execution_count": 74,
   "metadata": {},
   "outputs": [
    {
     "data": {
      "text/plain": [
       "26"
      ]
     },
     "execution_count": 74,
     "metadata": {},
     "output_type": "execute_result"
    }
   ],
   "source": [
    "len(['annee', 'annee_construction', 'annee_renovation', 'cluster_cah_ward_0', 'cluster_cah_ward_1', 'cluster_cah_ward_2', 'design_note', 'etat_note', 'lat', 'long', 'm2_interieur', 'm2_interieur_15voisins', 'm2_jardin', 'm2_jardin_15voisins', 'm2_soussol', 'mois', 'nb_chambres', 'nb_etages', 'nb_sdb', 'rennovee', 'vue_mer', 'vue_note', 'zipcode_cluster_0', 'zipcode_cluster_1', 'zipcode_cluster_2', 'zipcode_cluster_3'])"
   ]
  },
  {
   "cell_type": "code",
   "execution_count": 75,
   "metadata": {},
   "outputs": [
    {
     "data": {
      "text/plain": [
       "\"def linreg_stepwise_proc(X, y, crit='BIC', verbose=True):\\n    stepwise_models = pd.DataFrame(columns=['AIC', 'BIC', 'model'])\\n    predictors = []\\n    stepwise_model_before = AIC_BIC_linreg(X, y, predictors+['const'])[crit]\\n    \\n    for i in range(1, len(X.columns.difference(['const'])) + 1):\\n        forward_result = linreg_forward_predictors(X=X, y=y, predictors=predictors, crit=crit, verbose=verbose)\\n        stepwise_models.loc[i] = forward_result\\n        predictors = stepwise_models.loc[i]['model'].model.exog_names\\n        predictors = [k for k in predictors if k != 'const']\\n        backward_result = linreg_backward_predictors(X=X, y=y, predictors=predictors, crit=crit, verbose=verbose)\\n        if backward_result[crit]< forward_result[crit]:\\n            stepwise_models.loc[i] = backward_result\\n            predictors = stepwise_models.loc[i]['model'].model.exog_names\\n            stepwise_model_before = stepwise_models.loc[i][crit]\\n            predictors = [k for k in predictors if k != 'const']\\n        if stepwise_models.loc[i][crit]> stepwise_model_before:\\n            break\\n        else:\\n            stepwise_model_before = stepwise_models.loc[i][crit]\\n        \\n    return(stepwise_models['model'][len(stepwise_models['model'])])\\n\\n\\nlinreg_stepwise = linreg_stepwise_proc(add_constant(X), y, crit='AIC', verbose=True)\""
      ]
     },
     "execution_count": 75,
     "metadata": {},
     "output_type": "execute_result"
    }
   ],
   "source": [
    "\"\"\"def linreg_stepwise_proc(X, y, crit='BIC', verbose=True):\n",
    "    stepwise_models = pd.DataFrame(columns=['AIC', 'BIC', 'model'])\n",
    "    predictors = []\n",
    "    stepwise_model_before = AIC_BIC_linreg(X, y, predictors+['const'])[crit]\n",
    "    \n",
    "    for i in range(1, len(X.columns.difference(['const'])) + 1):\n",
    "        forward_result = linreg_forward_predictors(X=X, y=y, predictors=predictors, crit=crit, verbose=verbose)\n",
    "        stepwise_models.loc[i] = forward_result\n",
    "        predictors = stepwise_models.loc[i]['model'].model.exog_names\n",
    "        predictors = [k for k in predictors if k != 'const']\n",
    "        backward_result = linreg_backward_predictors(X=X, y=y, predictors=predictors, crit=crit, verbose=verbose)\n",
    "        if backward_result[crit]< forward_result[crit]:\n",
    "            stepwise_models.loc[i] = backward_result\n",
    "            predictors = stepwise_models.loc[i]['model'].model.exog_names\n",
    "            stepwise_model_before = stepwise_models.loc[i][crit]\n",
    "            predictors = [k for k in predictors if k != 'const']\n",
    "        if stepwise_models.loc[i][crit]> stepwise_model_before:\n",
    "            break\n",
    "        else:\n",
    "            stepwise_model_before = stepwise_models.loc[i][crit]\n",
    "        \n",
    "    return(stepwise_models['model'][len(stepwise_models['model'])])\n",
    "\n",
    "\n",
    "linreg_stepwise = linreg_stepwise_proc(add_constant(X), y, crit='AIC', verbose=True)\"\"\""
   ]
  },
  {
   "cell_type": "markdown",
   "metadata": {},
   "source": [
    "pas zipcode cluster 1 et soussol"
   ]
  },
  {
   "cell_type": "code",
   "execution_count": 76,
   "metadata": {},
   "outputs": [
    {
     "data": {
      "text/plain": [
       "26"
      ]
     },
     "execution_count": 76,
     "metadata": {},
     "output_type": "execute_result"
    }
   ],
   "source": [
    "len(['zipcode_cluster_4', 'zipcode_cluster_3', 'zipcode_cluster_2', 'vue_mer', 'nb_chambres', 'zipcode_cluster_0', 'cluster_cah_ward_2', 'vue_note', 'm2_soussol', 'lat', 'etat_note', 'annee', 'design_note', 'm2_etage', 'm2_interieur_15voisins', 'annee_construction', 'm2_jardin', 'rennovee', 'nb_sdb', 'nb_etages', 'cluster_cah_ward_0', 'mois', 'm2_jardin_15voisins', 'long', 'annee_renovation', 'cluster_cah_ward_1'])"
   ]
  },
  {
   "cell_type": "code",
   "execution_count": 77,
   "metadata": {},
   "outputs": [],
   "source": [
    "train=train.drop('soussol',axis=1)\n",
    "test=test.drop('soussol',axis=1)"
   ]
  },
  {
   "cell_type": "code",
   "execution_count": 78,
   "metadata": {},
   "outputs": [],
   "source": [
    "from sklearn.metrics import mean_squared_error\n",
    "from sklearn.metrics import mean_absolute_percentage_error"
   ]
  },
  {
   "cell_type": "code",
   "execution_count": 79,
   "metadata": {},
   "outputs": [
    {
     "data": {
      "text/plain": [
       "\"L_MSE=[]\\nL_RMSE=[]\\nL_MAPE=[]\\n\\nfor i in range(100):\\n  train_portion = 0.8\\n  train_wagon = (np.random.rand(train.shape[0]) < train_portion)\\n  data_train = train[train_wagon == True]\\n  X_test = train[train_wagon == False].drop(['prix_m2','prix'],axis=1)\\n  y_test = train[train_wagon == False]['prix']\\n\\n  y=train[train_wagon == True]['prix_m2']\\n  X=train[train_wagon == True].drop(['prix_m2','prix'],axis=1)\\n\\n  reg2 = OLS(y,X).fit()\\n  prediction=reg2.predict(X_test)\\n  X_test['prix_pred']=prediction*X_test['m2_interieur']\\n  MSE = mean_squared_error(y_test,X_test['prix_pred'])\\n  RMSE=np.sqrt(MSE)\\n  MAPE=mean_absolute_percentage_error(y_test, X_test['prix_pred'])\\n  L_MSE.append(MSE)\\n  L_RMSE.append(RMSE)\\n  L_MAPE.append(MAPE)\\n\\n#print(np.argmin(L_MSE))\\n\\nprint(np.mean(L_MSE))\\nprint(np.mean(L_RMSE))\\nprint(np.mean(L_MAPE))\""
      ]
     },
     "execution_count": 79,
     "metadata": {},
     "output_type": "execute_result"
    }
   ],
   "source": [
    "\"\"\"L_MSE=[]\n",
    "L_RMSE=[]\n",
    "L_MAPE=[]\n",
    "\n",
    "for i in range(100):\n",
    "  train_portion = 0.8\n",
    "  train_wagon = (np.random.rand(train.shape[0]) < train_portion)\n",
    "  data_train = train[train_wagon == True]\n",
    "  X_test = train[train_wagon == False].drop(['prix_m2','prix'],axis=1)\n",
    "  y_test = train[train_wagon == False]['prix']\n",
    "\n",
    "  y=train[train_wagon == True]['prix_m2']\n",
    "  X=train[train_wagon == True].drop(['prix_m2','prix'],axis=1)\n",
    "\n",
    "  reg2 = OLS(y,X).fit()\n",
    "  prediction=reg2.predict(X_test)\n",
    "  X_test['prix_pred']=prediction*X_test['m2_interieur']\n",
    "  MSE = mean_squared_error(y_test,X_test['prix_pred'])\n",
    "  RMSE=np.sqrt(MSE)\n",
    "  MAPE=mean_absolute_percentage_error(y_test, X_test['prix_pred'])\n",
    "  L_MSE.append(MSE)\n",
    "  L_RMSE.append(RMSE)\n",
    "  L_MAPE.append(MAPE)\n",
    "\n",
    "#print(np.argmin(L_MSE))\n",
    "\n",
    "print(np.mean(L_MSE))\n",
    "print(np.mean(L_RMSE))\n",
    "print(np.mean(L_MAPE))\"\"\""
   ]
  },
  {
   "cell_type": "code",
   "execution_count": 80,
   "metadata": {},
   "outputs": [
    {
     "data": {
      "text/plain": [
       "prix                      542938.537331\n",
       "nb_chambres                    3.369809\n",
       "nb_sdb                         2.122827\n",
       "m2_interieur                 193.697953\n",
       "m2_jardin                   1403.193264\n",
       "m2_etage                     166.643029\n",
       "m2_soussol                    27.054924\n",
       "nb_etages                      1.497725\n",
       "vue_mer                        0.007991\n",
       "vue_note                       0.235009\n",
       "etat_note                      3.409239\n",
       "design_note                    7.668514\n",
       "annee_construction         -1980.836036\n",
       "annee_renovation           -1983.263649\n",
       "m2_interieur_15voisins       184.846222\n",
       "m2_jardin_15voisins         1185.238303\n",
       "lat                           47.560143\n",
       "long                        -122.213740\n",
       "prix_m2                     2849.575280\n",
       "annee                         -9.677613\n",
       "mois                          -0.150022\n",
       "rennovee                       0.043105\n",
       "zipcode_cluster_0              0.035114\n",
       "zipcode_cluster_1              0.131008\n",
       "zipcode_cluster_2              0.344669\n",
       "zipcode_cluster_3              0.207828\n",
       "zipcode_cluster_4              0.281381\n",
       "cluster_cah_ward_0             0.377158\n",
       "cluster_cah_ward_1             0.383341\n",
       "cluster_cah_ward_2             0.239501\n",
       "dtype: float64"
      ]
     },
     "execution_count": 80,
     "metadata": {},
     "output_type": "execute_result"
    }
   ],
   "source": [
    "train.mean()"
   ]
  },
  {
   "cell_type": "markdown",
   "metadata": {},
   "source": [
    "## Regression regularisée"
   ]
  },
  {
   "cell_type": "code",
   "execution_count": 81,
   "metadata": {},
   "outputs": [],
   "source": [
    "import pandas as pd # Pour lire les fichiers\n",
    "import numpy as np # Pour effectuer des calculs mathématiques\n",
    "import matplotlib.pyplot as plt # Pour réaliser des graphiques\n",
    "\n",
    "from sklearn.preprocessing import StandardScaler # Pour la normalisation des données\n",
    "from sklearn.model_selection import train_test_split # Pour le découpage apprentissage/test\n",
    "from sklearn.metrics import mean_squared_error, mean_absolute_percentage_error # Pour les critères d'erreur\n",
    "# https://scikit-learn.org/stable/modules/model_evaluation.html#regression-metrics\n",
    "\n",
    "from sklearn.linear_model import Ridge, RidgeCV # Pour la régression ridge\n",
    "from sklearn.linear_model import Lasso, LassoCV # Pour la régression LASSO\n",
    "from sklearn.linear_model import ElasticNet, ElasticNetCV # Pour la régression elastic net"
   ]
  },
  {
   "cell_type": "code",
   "execution_count": 82,
   "metadata": {},
   "outputs": [
    {
     "name": "stdout",
     "output_type": "stream",
     "text": [
      "Dimensions du jeu de données : (17144, 29)\n"
     ]
    }
   ],
   "source": [
    "data = train.drop('prix',axis=1)\n",
    "print('Dimensions du jeu de données :', data.shape)"
   ]
  },
  {
   "cell_type": "markdown",
   "metadata": {},
   "source": [
    "### 2. Création d'un jeu de données d'apprentissage et de test"
   ]
  },
  {
   "cell_type": "code",
   "execution_count": 83,
   "metadata": {},
   "outputs": [
    {
     "name": "stdout",
     "output_type": "stream",
     "text": [
      "Dimensions X_train: (13715, 28)\n",
      "Dimensions y_train: (13715,)\n",
      "Dimensions X_test: (3429, 28)\n",
      "Dimensions y_test: (3429,)\n"
     ]
    }
   ],
   "source": [
    "target = 'prix_m2'\n",
    "features = list(data.columns.difference([target]))\n",
    "\n",
    "test_portion = 1/5\n",
    "\n",
    "X = data[features]\n",
    "y = data[target]\n",
    "\n",
    "X_train, X_test, y_train, y_test = train_test_split(X, y, test_size=test_portion, shuffle=True)\n",
    "\n",
    "print('Dimensions X_train:', X_train.shape)\n",
    "print('Dimensions y_train:', y_train.shape)\n",
    "print('Dimensions X_test:', X_test.shape)\n",
    "print('Dimensions y_test:', y_test.shape)\n",
    "\n",
    "mean_std_scaler = StandardScaler().fit(X_train)\n",
    "\n",
    "X_train_sc = mean_std_scaler.transform(X_train)\n",
    "X_test_sc = mean_std_scaler.transform(X_test)"
   ]
  },
  {
   "cell_type": "markdown",
   "metadata": {},
   "source": [
    "### 3. Normalisation des covariables"
   ]
  },
  {
   "cell_type": "markdown",
   "metadata": {},
   "source": [
    "### 4.1. Ridge"
   ]
  },
  {
   "cell_type": "code",
   "execution_count": 84,
   "metadata": {},
   "outputs": [
    {
     "name": "stdout",
     "output_type": "stream",
     "text": [
      "Hyperparamètre optimal : 60.86086086086126\n",
      "RMSE Ridge : 150597.84\n",
      "MAPE Ridge : 17.40\n"
     ]
    }
   ],
   "source": [
    "ridge_grid = RidgeCV(alphas=np.linspace(start=1e-12, stop=100, num=1000)).fit(X_train_sc, y_train)\n",
    "\n",
    "alpha_opt = ridge_grid.alpha_\n",
    "print('Hyperparamètre optimal :', alpha_opt)\n",
    "\n",
    "ridge_model = Ridge(alpha_opt)\n",
    "ridge = ridge_model.fit(X_train_sc, y_train)\n",
    "\n",
    "y_test_pred_ridge = ridge.predict(X_test_sc)\n",
    "\n",
    "RMSE_ridge = np.sqrt(mean_squared_error(y_test*X_test['m2_interieur'], y_test_pred_ridge*X_test['m2_interieur']))\n",
    "print(f'RMSE Ridge : {RMSE_ridge:.2f}')\n",
    "\n",
    "MAPE_ridge = mean_absolute_percentage_error(y_test*X_test['m2_interieur'], y_test_pred_ridge*X_test['m2_interieur']) * 100\n",
    "print(f'MAPE Ridge : {MAPE_ridge:.2f}')"
   ]
  },
  {
   "cell_type": "code",
   "execution_count": 85,
   "metadata": {},
   "outputs": [
    {
     "name": "stdout",
     "output_type": "stream",
     "text": [
      "Hyperparamètre optimal : 53.653653653654125\n",
      "Hyperparamètre optimal : 56.4564564564569\n",
      "Hyperparamètre optimal : 53.753753753754225\n",
      "Hyperparamètre optimal : 57.35735735735779\n",
      "Hyperparamètre optimal : 56.556556556557\n",
      "Hyperparamètre optimal : 54.25425425425472\n",
      "Hyperparamètre optimal : 50.950950950951444\n",
      "Hyperparamètre optimal : 48.24824824824877\n",
      "Hyperparamètre optimal : 46.946946946947484\n",
      "Hyperparamètre optimal : 55.855855855856305\n"
     ]
    }
   ],
   "source": [
    "RMSE_list=[]\n",
    "opt_ridge=[]\n",
    "for i in range(10):\n",
    "    X_train, X_test, y_train, y_test = train_test_split(X, y, test_size=test_portion, shuffle=True)\n",
    "\n",
    "    mean_std_scaler = StandardScaler().fit(X_train)\n",
    "\n",
    "    X_train_sc = mean_std_scaler.transform(X_train)\n",
    "    X_test_sc = mean_std_scaler.transform(X_test)\n",
    "\n",
    "    ridge_grid = RidgeCV(alphas=np.linspace(start=1e-12, stop=100, num=1000)).fit(X_train_sc, y_train)\n",
    "\n",
    "    alpha_opt = ridge_grid.alpha_\n",
    "    print('Hyperparamètre optimal :', alpha_opt)\n",
    "\n",
    "    ridge_model = Ridge(alpha_opt)\n",
    "    ridge = ridge_model.fit(X_train_sc, y_train)\n",
    "\n",
    "    y_test_pred_ridge = ridge.predict(X_test_sc)\n",
    "\n",
    "    RMSE_ridge = np.sqrt(mean_squared_error(y_test*X_test['m2_interieur'], y_test_pred_ridge*X_test['m2_interieur']))\n",
    "    RMSE_list.append(RMSE_ridge)\n",
    "    opt_ridge.append(alpha_opt)"
   ]
  },
  {
   "cell_type": "code",
   "execution_count": 86,
   "metadata": {},
   "outputs": [
    {
     "name": "stdout",
     "output_type": "stream",
     "text": [
      "159025.27325191902\n",
      "53.40340340340388\n"
     ]
    }
   ],
   "source": [
    "print(np.mean(RMSE_list))\n",
    "print(np.mean(opt_ridge))"
   ]
  },
  {
   "cell_type": "code",
   "execution_count": 87,
   "metadata": {},
   "outputs": [
    {
     "name": "stdout",
     "output_type": "stream",
     "text": [
      "Hyperparamètre optimal : 54.95495495495541\n"
     ]
    }
   ],
   "source": [
    "mean_std_scaler = StandardScaler().fit(train.drop(['prix','prix_m2'],axis=1))\n",
    "\n",
    "X_train_sc = mean_std_scaler.transform(train.drop(['prix','prix_m2'],axis=1))\n",
    "X_test_sc = mean_std_scaler.transform(test)\n",
    "\n",
    "ridge_grid = RidgeCV(alphas=np.linspace(start=1e-12, stop=100, num=1000)).fit(X_train_sc, train['prix_m2'])\n",
    "\n",
    "alpha_opt = ridge_grid.alpha_\n",
    "print('Hyperparamètre optimal :', alpha_opt)\n",
    "\n",
    "ridge_model = Ridge(alpha_opt)\n",
    "ridge = ridge_model.fit(X_train_sc, train['prix_m2'])\n",
    "\n",
    "y_test_pred_ridge = ridge.predict(X_test_sc)\n",
    "\n",
    "test['prix_pred']=y_test_pred_ridge*test['m2_interieur']\n"
   ]
  },
  {
   "cell_type": "code",
   "execution_count": 88,
   "metadata": {},
   "outputs": [],
   "source": [
    "ids['prix']=test['prix_pred']"
   ]
  },
  {
   "cell_type": "code",
   "execution_count": 89,
   "metadata": {},
   "outputs": [
    {
     "data": {
      "text/html": [
       "<div>\n",
       "<style scoped>\n",
       "    .dataframe tbody tr th:only-of-type {\n",
       "        vertical-align: middle;\n",
       "    }\n",
       "\n",
       "    .dataframe tbody tr th {\n",
       "        vertical-align: top;\n",
       "    }\n",
       "\n",
       "    .dataframe thead th {\n",
       "        text-align: right;\n",
       "    }\n",
       "</style>\n",
       "<table border=\"1\" class=\"dataframe\">\n",
       "  <thead>\n",
       "    <tr style=\"text-align: right;\">\n",
       "      <th></th>\n",
       "      <th>id</th>\n",
       "      <th>prix</th>\n",
       "    </tr>\n",
       "  </thead>\n",
       "  <tbody>\n",
       "    <tr>\n",
       "      <th>0</th>\n",
       "      <td>3600072</td>\n",
       "      <td>5.994704e+05</td>\n",
       "    </tr>\n",
       "    <tr>\n",
       "      <th>1</th>\n",
       "      <td>6200017</td>\n",
       "      <td>1.859650e+05</td>\n",
       "    </tr>\n",
       "    <tr>\n",
       "      <th>2</th>\n",
       "      <td>7600136</td>\n",
       "      <td>4.499392e+05</td>\n",
       "    </tr>\n",
       "    <tr>\n",
       "      <th>3</th>\n",
       "      <td>11200400</td>\n",
       "      <td>5.243231e+05</td>\n",
       "    </tr>\n",
       "    <tr>\n",
       "      <th>4</th>\n",
       "      <td>11500890</td>\n",
       "      <td>1.011535e+06</td>\n",
       "    </tr>\n",
       "    <tr>\n",
       "      <th>...</th>\n",
       "      <td>...</td>\n",
       "      <td>...</td>\n",
       "    </tr>\n",
       "    <tr>\n",
       "      <th>4282</th>\n",
       "      <td>9834200975</td>\n",
       "      <td>5.023203e+05</td>\n",
       "    </tr>\n",
       "    <tr>\n",
       "      <th>4283</th>\n",
       "      <td>9834201370</td>\n",
       "      <td>4.021423e+05</td>\n",
       "    </tr>\n",
       "    <tr>\n",
       "      <th>4284</th>\n",
       "      <td>9835801000</td>\n",
       "      <td>2.947598e+05</td>\n",
       "    </tr>\n",
       "    <tr>\n",
       "      <th>4285</th>\n",
       "      <td>9839300125</td>\n",
       "      <td>6.969283e+05</td>\n",
       "    </tr>\n",
       "    <tr>\n",
       "      <th>4286</th>\n",
       "      <td>9839301055</td>\n",
       "      <td>5.964382e+05</td>\n",
       "    </tr>\n",
       "  </tbody>\n",
       "</table>\n",
       "<p>4287 rows × 2 columns</p>\n",
       "</div>"
      ],
      "text/plain": [
       "              id          prix\n",
       "0        3600072  5.994704e+05\n",
       "1        6200017  1.859650e+05\n",
       "2        7600136  4.499392e+05\n",
       "3       11200400  5.243231e+05\n",
       "4       11500890  1.011535e+06\n",
       "...          ...           ...\n",
       "4282  9834200975  5.023203e+05\n",
       "4283  9834201370  4.021423e+05\n",
       "4284  9835801000  2.947598e+05\n",
       "4285  9839300125  6.969283e+05\n",
       "4286  9839301055  5.964382e+05\n",
       "\n",
       "[4287 rows x 2 columns]"
      ]
     },
     "execution_count": 89,
     "metadata": {},
     "output_type": "execute_result"
    }
   ],
   "source": [
    "ids"
   ]
  },
  {
   "cell_type": "code",
   "execution_count": 90,
   "metadata": {},
   "outputs": [],
   "source": [
    "ids.to_csv('C:/Users/morea/OneDrive/Documents/2A/PRAMA/PRAMA/Ridge_submission.csv',index=False)"
   ]
  },
  {
   "cell_type": "markdown",
   "metadata": {},
   "source": [
    "### 4.2. LASSO"
   ]
  },
  {
   "cell_type": "code",
   "execution_count": 91,
   "metadata": {},
   "outputs": [],
   "source": [
    "test=test.drop('prix_pred',axis=1)"
   ]
  },
  {
   "cell_type": "code",
   "execution_count": 92,
   "metadata": {},
   "outputs": [
    {
     "name": "stdout",
     "output_type": "stream",
     "text": [
      "Dimensions X_train: (13715, 28)\n",
      "Dimensions y_train: (13715,)\n",
      "Dimensions X_test: (3429, 28)\n",
      "Dimensions y_test: (3429,)\n"
     ]
    }
   ],
   "source": [
    "target = 'prix_m2'\n",
    "features = list(data.columns.difference([target]))\n",
    "\n",
    "test_portion = 1/5\n",
    "\n",
    "X = data[features]\n",
    "y = data[target]\n",
    "\n",
    "X_train, X_test, y_train, y_test = train_test_split(X, y, test_size=test_portion, shuffle=True)\n",
    "\n",
    "print('Dimensions X_train:', X_train.shape)\n",
    "print('Dimensions y_train:', y_train.shape)\n",
    "print('Dimensions X_test:', X_test.shape)\n",
    "print('Dimensions y_test:', y_test.shape)\n",
    "\n",
    "mean_std_scaler = StandardScaler().fit(X_train)\n",
    "\n",
    "X_train_sc = mean_std_scaler.transform(X_train)\n",
    "X_test_sc = mean_std_scaler.transform(X_test)"
   ]
  },
  {
   "cell_type": "code",
   "execution_count": 93,
   "metadata": {},
   "outputs": [
    {
     "name": "stderr",
     "output_type": "stream",
     "text": [
      "C:\\Users\\morea\\AppData\\Local\\Packages\\PythonSoftwareFoundation.Python.3.11_qbz5n2kfra8p0\\LocalCache\\local-packages\\Python311\\site-packages\\sklearn\\linear_model\\_coordinate_descent.py:664: ConvergenceWarning: Objective did not converge. You might want to increase the number of iterations. Duality gap: 9570900.948338509, tolerance: 1549578.3951711936\n",
      "  model = cd_fast.enet_coordinate_descent_gram(\n",
      "C:\\Users\\morea\\AppData\\Local\\Packages\\PythonSoftwareFoundation.Python.3.11_qbz5n2kfra8p0\\LocalCache\\local-packages\\Python311\\site-packages\\sklearn\\linear_model\\_coordinate_descent.py:664: ConvergenceWarning: Objective did not converge. You might want to increase the number of iterations. Duality gap: 437744129.63138723, tolerance: 1549578.3951711936\n",
      "  model = cd_fast.enet_coordinate_descent_gram(\n",
      "C:\\Users\\morea\\AppData\\Local\\Packages\\PythonSoftwareFoundation.Python.3.11_qbz5n2kfra8p0\\LocalCache\\local-packages\\Python311\\site-packages\\sklearn\\linear_model\\_coordinate_descent.py:664: ConvergenceWarning: Objective did not converge. You might want to increase the number of iterations. Duality gap: 9414700.596481323, tolerance: 1547375.8729057692\n",
      "  model = cd_fast.enet_coordinate_descent_gram(\n",
      "C:\\Users\\morea\\AppData\\Local\\Packages\\PythonSoftwareFoundation.Python.3.11_qbz5n2kfra8p0\\LocalCache\\local-packages\\Python311\\site-packages\\sklearn\\linear_model\\_coordinate_descent.py:664: ConvergenceWarning: Objective did not converge. You might want to increase the number of iterations. Duality gap: 427150813.87368345, tolerance: 1547375.8729057692\n",
      "  model = cd_fast.enet_coordinate_descent_gram(\n",
      "C:\\Users\\morea\\AppData\\Local\\Packages\\PythonSoftwareFoundation.Python.3.11_qbz5n2kfra8p0\\LocalCache\\local-packages\\Python311\\site-packages\\sklearn\\linear_model\\_coordinate_descent.py:664: ConvergenceWarning: Objective did not converge. You might want to increase the number of iterations. Duality gap: 9299308.604151726, tolerance: 1525221.7271269788\n",
      "  model = cd_fast.enet_coordinate_descent_gram(\n",
      "C:\\Users\\morea\\AppData\\Local\\Packages\\PythonSoftwareFoundation.Python.3.11_qbz5n2kfra8p0\\LocalCache\\local-packages\\Python311\\site-packages\\sklearn\\linear_model\\_coordinate_descent.py:664: ConvergenceWarning: Objective did not converge. You might want to increase the number of iterations. Duality gap: 412881527.8481021, tolerance: 1525221.7271269788\n",
      "  model = cd_fast.enet_coordinate_descent_gram(\n",
      "C:\\Users\\morea\\AppData\\Local\\Packages\\PythonSoftwareFoundation.Python.3.11_qbz5n2kfra8p0\\LocalCache\\local-packages\\Python311\\site-packages\\sklearn\\linear_model\\_coordinate_descent.py:664: ConvergenceWarning: Objective did not converge. You might want to increase the number of iterations. Duality gap: 9551008.717983246, tolerance: 1571287.2842761462\n",
      "  model = cd_fast.enet_coordinate_descent_gram(\n",
      "C:\\Users\\morea\\AppData\\Local\\Packages\\PythonSoftwareFoundation.Python.3.11_qbz5n2kfra8p0\\LocalCache\\local-packages\\Python311\\site-packages\\sklearn\\linear_model\\_coordinate_descent.py:664: ConvergenceWarning: Objective did not converge. You might want to increase the number of iterations. Duality gap: 104359092.86794281, tolerance: 1571287.2842761462\n",
      "  model = cd_fast.enet_coordinate_descent_gram(\n",
      "C:\\Users\\morea\\AppData\\Local\\Packages\\PythonSoftwareFoundation.Python.3.11_qbz5n2kfra8p0\\LocalCache\\local-packages\\Python311\\site-packages\\sklearn\\linear_model\\_coordinate_descent.py:664: ConvergenceWarning: Objective did not converge. You might want to increase the number of iterations. Duality gap: 9459545.829236984, tolerance: 1531675.9884939573\n",
      "  model = cd_fast.enet_coordinate_descent_gram(\n",
      "C:\\Users\\morea\\AppData\\Local\\Packages\\PythonSoftwareFoundation.Python.3.11_qbz5n2kfra8p0\\LocalCache\\local-packages\\Python311\\site-packages\\sklearn\\linear_model\\_coordinate_descent.py:664: ConvergenceWarning: Objective did not converge. You might want to increase the number of iterations. Duality gap: 421705475.1320572, tolerance: 1531675.9884939573\n",
      "  model = cd_fast.enet_coordinate_descent_gram(\n",
      "C:\\Users\\morea\\AppData\\Local\\Packages\\PythonSoftwareFoundation.Python.3.11_qbz5n2kfra8p0\\LocalCache\\local-packages\\Python311\\site-packages\\sklearn\\linear_model\\_coordinate_descent.py:678: ConvergenceWarning: Objective did not converge. You might want to increase the number of iterations, check the scale of the features or consider increasing regularisation. Duality gap: 1.880e+07, tolerance: 1.931e+06\n",
      "  model = cd_fast.enet_coordinate_descent(\n"
     ]
    },
    {
     "name": "stdout",
     "output_type": "stream",
     "text": [
      "Hyperparamètre optimal : 0.5895895896306307\n",
      "RMSE LASSO : 146674.00\n",
      "MAPE LASSO : 17.38\n"
     ]
    },
    {
     "name": "stderr",
     "output_type": "stream",
     "text": [
      "C:\\Users\\morea\\AppData\\Local\\Packages\\PythonSoftwareFoundation.Python.3.11_qbz5n2kfra8p0\\LocalCache\\local-packages\\Python311\\site-packages\\sklearn\\linear_model\\_coordinate_descent.py:678: ConvergenceWarning: Objective did not converge. You might want to increase the number of iterations, check the scale of the features or consider increasing regularisation. Duality gap: 1.880e+07, tolerance: 1.931e+06\n",
      "  model = cd_fast.enet_coordinate_descent(\n"
     ]
    }
   ],
   "source": [
    "lasso_grid = LassoCV(alphas=np.linspace(start=1e-10, stop=1, num=1000)).fit(X_train_sc, y_train)\n",
    "\n",
    "alpha_opt = lasso_grid.alpha_\n",
    "print('Hyperparamètre optimal :', alpha_opt)\n",
    "\n",
    "lasso_model = Lasso(alpha_opt)\n",
    "lasso = lasso_model.fit(X_train_sc, y_train)\n",
    "\n",
    "y_test_pred_lasso = lasso.predict(X_test_sc)\n",
    "\n",
    "RMSE_lasso = np.sqrt(mean_squared_error(y_test*X_test['m2_interieur'], y_test_pred_lasso*X_test['m2_interieur']))\n",
    "print(f'RMSE LASSO : {RMSE_lasso:.2f}')\n",
    "\n",
    "MAPE_lasso = mean_absolute_percentage_error(y_test*X_test['m2_interieur'], y_test_pred_lasso*X_test['m2_interieur']) * 100\n",
    "print(f'MAPE LASSO : {MAPE_lasso:.2f}')"
   ]
  },
  {
   "cell_type": "markdown",
   "metadata": {},
   "source": [
    "### 4.3. Elastic Net"
   ]
  },
  {
   "cell_type": "code",
   "execution_count": 94,
   "metadata": {},
   "outputs": [
    {
     "name": "stderr",
     "output_type": "stream",
     "text": [
      "C:\\Users\\morea\\AppData\\Local\\Packages\\PythonSoftwareFoundation.Python.3.11_qbz5n2kfra8p0\\LocalCache\\local-packages\\Python311\\site-packages\\sklearn\\linear_model\\_coordinate_descent.py:664: ConvergenceWarning: Objective did not converge. You might want to increase the number of iterations. Duality gap: 10401366.390646935, tolerance: 1549578.3951711936\n",
      "  model = cd_fast.enet_coordinate_descent_gram(\n",
      "C:\\Users\\morea\\AppData\\Local\\Packages\\PythonSoftwareFoundation.Python.3.11_qbz5n2kfra8p0\\LocalCache\\local-packages\\Python311\\site-packages\\sklearn\\linear_model\\_coordinate_descent.py:664: ConvergenceWarning: Objective did not converge. You might want to increase the number of iterations. Duality gap: 83220855.28052521, tolerance: 1549578.3951711936\n",
      "  model = cd_fast.enet_coordinate_descent_gram(\n",
      "C:\\Users\\morea\\AppData\\Local\\Packages\\PythonSoftwareFoundation.Python.3.11_qbz5n2kfra8p0\\LocalCache\\local-packages\\Python311\\site-packages\\sklearn\\linear_model\\_coordinate_descent.py:664: ConvergenceWarning: Objective did not converge. You might want to increase the number of iterations. Duality gap: 9596812.25265503, tolerance: 1547375.8729057692\n",
      "  model = cd_fast.enet_coordinate_descent_gram(\n",
      "C:\\Users\\morea\\AppData\\Local\\Packages\\PythonSoftwareFoundation.Python.3.11_qbz5n2kfra8p0\\LocalCache\\local-packages\\Python311\\site-packages\\sklearn\\linear_model\\_coordinate_descent.py:664: ConvergenceWarning: Objective did not converge. You might want to increase the number of iterations. Duality gap: 78349752.6260767, tolerance: 1547375.8729057692\n",
      "  model = cd_fast.enet_coordinate_descent_gram(\n",
      "C:\\Users\\morea\\AppData\\Local\\Packages\\PythonSoftwareFoundation.Python.3.11_qbz5n2kfra8p0\\LocalCache\\local-packages\\Python311\\site-packages\\sklearn\\linear_model\\_coordinate_descent.py:664: ConvergenceWarning: Objective did not converge. You might want to increase the number of iterations. Duality gap: 10082908.202191353, tolerance: 1525221.7271269788\n",
      "  model = cd_fast.enet_coordinate_descent_gram(\n",
      "C:\\Users\\morea\\AppData\\Local\\Packages\\PythonSoftwareFoundation.Python.3.11_qbz5n2kfra8p0\\LocalCache\\local-packages\\Python311\\site-packages\\sklearn\\linear_model\\_coordinate_descent.py:664: ConvergenceWarning: Objective did not converge. You might want to increase the number of iterations. Duality gap: 93720871.8545661, tolerance: 1525221.7271269788\n",
      "  model = cd_fast.enet_coordinate_descent_gram(\n",
      "C:\\Users\\morea\\AppData\\Local\\Packages\\PythonSoftwareFoundation.Python.3.11_qbz5n2kfra8p0\\LocalCache\\local-packages\\Python311\\site-packages\\sklearn\\linear_model\\_coordinate_descent.py:664: ConvergenceWarning: Objective did not converge. You might want to increase the number of iterations. Duality gap: 9233098.947572708, tolerance: 1571287.2842761462\n",
      "  model = cd_fast.enet_coordinate_descent_gram(\n",
      "C:\\Users\\morea\\AppData\\Local\\Packages\\PythonSoftwareFoundation.Python.3.11_qbz5n2kfra8p0\\LocalCache\\local-packages\\Python311\\site-packages\\sklearn\\linear_model\\_coordinate_descent.py:664: ConvergenceWarning: Objective did not converge. You might want to increase the number of iterations. Duality gap: 82739242.35983372, tolerance: 1571287.2842761462\n",
      "  model = cd_fast.enet_coordinate_descent_gram(\n",
      "C:\\Users\\morea\\AppData\\Local\\Packages\\PythonSoftwareFoundation.Python.3.11_qbz5n2kfra8p0\\LocalCache\\local-packages\\Python311\\site-packages\\sklearn\\linear_model\\_coordinate_descent.py:664: ConvergenceWarning: Objective did not converge. You might want to increase the number of iterations. Duality gap: 9271534.36141777, tolerance: 1531675.9884939573\n",
      "  model = cd_fast.enet_coordinate_descent_gram(\n",
      "C:\\Users\\morea\\AppData\\Local\\Packages\\PythonSoftwareFoundation.Python.3.11_qbz5n2kfra8p0\\LocalCache\\local-packages\\Python311\\site-packages\\sklearn\\linear_model\\_coordinate_descent.py:664: ConvergenceWarning: Objective did not converge. You might want to increase the number of iterations. Duality gap: 75167007.06357527, tolerance: 1531675.9884939573\n",
      "  model = cd_fast.enet_coordinate_descent_gram(\n"
     ]
    },
    {
     "name": "stdout",
     "output_type": "stream",
     "text": [
      "Hyperparamètre optimal : 0.009009009108108108\n",
      "RMSE Elastic Net : 146551.95\n",
      "MAPE Elastic Net : 17.39\n"
     ]
    }
   ],
   "source": [
    "elasticnet_grid = ElasticNetCV(l1_ratio=0.5, alphas=np.linspace(start=1e-10, stop=1, num=1000)).fit(X_train_sc, y_train)\n",
    "\n",
    "alpha_opt = elasticnet_grid.alpha_\n",
    "print('Hyperparamètre optimal :', alpha_opt)\n",
    "\n",
    "elasticnet_model = ElasticNet(l1_ratio=0.5, alpha=alpha_opt)\n",
    "elasticnet = elasticnet_model.fit(X_train_sc, y_train)\n",
    "\n",
    "y_test_pred_elasticnet = elasticnet.predict(X_test_sc)\n",
    "\n",
    "RMSE_elasticnet = np.sqrt(mean_squared_error(y_test*X_test['m2_interieur'], y_test_pred_elasticnet*X_test['m2_interieur']))\n",
    "print(f'RMSE Elastic Net : {RMSE_elasticnet:.2f}')\n",
    "\n",
    "MAPE_elasticnet = mean_absolute_percentage_error(y_test*X_test['m2_interieur'], y_test_pred_elasticnet*X_test['m2_interieur']) * 100\n",
    "print(f'MAPE Elastic Net : {MAPE_elasticnet:.2f}')"
   ]
  },
  {
   "cell_type": "markdown",
   "metadata": {},
   "source": [
    "### 4.4. Synthèse"
   ]
  },
  {
   "cell_type": "code",
   "execution_count": 95,
   "metadata": {},
   "outputs": [
    {
     "data": {
      "text/plain": [
       "{'Ridge': 149397.71842197992,\n",
       " 'LASSO': 146674.00208754462,\n",
       " 'Elastic Net': 146551.95271325807}"
      ]
     },
     "execution_count": 95,
     "metadata": {},
     "output_type": "execute_result"
    }
   ],
   "source": [
    "RMSE_model = {}\n",
    "\n",
    "RMSE_model['Ridge'] = RMSE_ridge\n",
    "RMSE_model['LASSO'] = RMSE_lasso\n",
    "RMSE_model['Elastic Net'] = RMSE_elasticnet\n",
    "\n",
    "RMSE_model"
   ]
  },
  {
   "cell_type": "code",
   "execution_count": 96,
   "metadata": {},
   "outputs": [
    {
     "data": {
      "image/png": "[encoded data removed]",
      "text/plain": [
       "<Figure size 800x600 with 1 Axes>"
      ]
     },
     "metadata": {},
     "output_type": "display_data"
    }
   ],
   "source": [
    "fig, ax = plt.subplots(figsize=(8, 6))\n",
    "ax.bar(RMSE_model.keys(), RMSE_model.values())\n",
    "#ax.grid()\n",
    "ax.tick_params(axis='x', labelrotation=90)\n",
    "ax.set_ylabel('RMSE')\n",
    "\n",
    "plt.title('Comparaison de modèles')\n",
    "plt.show()"
   ]
  },
  {
   "cell_type": "markdown",
   "metadata": {},
   "source": [
    "## Random Forest"
   ]
  },
  {
   "cell_type": "code",
   "execution_count": 97,
   "metadata": {},
   "outputs": [],
   "source": [
    "from sklearn.ensemble import RandomForestRegressor"
   ]
  },
  {
   "cell_type": "code",
   "execution_count": 98,
   "metadata": {},
   "outputs": [
    {
     "data": {
      "text/plain": [
       "\"L=[]\\nfor i in range(10):\\n    train_portion = 0.8\\n    train_wagon = (np.random.rand(train.shape[0]) < train_portion)\\n    data_train = train[train_wagon == True]\\n    X_test = train[train_wagon == False].drop(['prix','prix_m2'],axis=1)\\n    y_test = train[train_wagon == False]['prix']\\n\\n    y=train[train_wagon == True]['prix_m2']\\n    X=train[train_wagon == True].drop(['prix','prix_m2'],axis=1)\\n\\n    model_RFR = RandomForestRegressor(random_state=0)\\n\\n    model_RFR.fit(X,y)\\n    Y_pred_for_test=model_RFR.predict(X_test)\\n\\n    L.append(np.sqrt(mean_squared_error(y_test,Y_pred_for_test*X_test['m2_interieur'])))\\n\\n    print(np.mean(L))\\n    print(np.min(L))\\n\""
      ]
     },
     "execution_count": 98,
     "metadata": {},
     "output_type": "execute_result"
    }
   ],
   "source": [
    "\"\"\"L=[]\n",
    "for i in range(10):\n",
    "    train_portion = 0.8\n",
    "    train_wagon = (np.random.rand(train.shape[0]) < train_portion)\n",
    "    data_train = train[train_wagon == True]\n",
    "    X_test = train[train_wagon == False].drop(['prix','prix_m2'],axis=1)\n",
    "    y_test = train[train_wagon == False]['prix']\n",
    "\n",
    "    y=train[train_wagon == True]['prix_m2']\n",
    "    X=train[train_wagon == True].drop(['prix','prix_m2'],axis=1)\n",
    "\n",
    "    model_RFR = RandomForestRegressor(random_state=0)\n",
    "\n",
    "    model_RFR.fit(X,y)\n",
    "    Y_pred_for_test=model_RFR.predict(X_test)\n",
    "\n",
    "    L.append(np.sqrt(mean_squared_error(y_test,Y_pred_for_test*X_test['m2_interieur'])))\n",
    "\n",
    "    print(np.mean(L))\n",
    "    print(np.min(L))\n",
    "\"\"\""
   ]
  },
  {
   "cell_type": "code",
   "execution_count": null,
   "metadata": {},
   "outputs": [],
   "source": [
    "#test=test.drop('prix_pred',axis=1)"
   ]
  },
  {
   "cell_type": "code",
   "execution_count": 109,
   "metadata": {},
   "outputs": [],
   "source": [
    "model_RFR = RandomForestRegressor(random_state=0)\n",
    "model_RFR.fit(train.drop(['prix','prix_m2'],axis=1), train['prix_m2'])\n",
    "\n",
    "y_test_pred_ridge = model_RFR.predict(test)\n",
    "\n",
    "test['prix_pred']=y_test_pred_ridge*test['m2_interieur']"
   ]
  },
  {
   "cell_type": "code",
   "execution_count": 116,
   "metadata": {},
   "outputs": [
    {
     "data": {
      "text/plain": [
       "Index(['nb_chambres', 'nb_sdb', 'm2_interieur', 'm2_jardin', 'm2_etage',\n",
       "       'm2_soussol', 'nb_etages', 'vue_mer', 'vue_note', 'etat_note',\n",
       "       'design_note', 'annee_construction', 'annee_renovation',\n",
       "       'm2_interieur_15voisins', 'm2_jardin_15voisins', 'lat', 'long', 'annee',\n",
       "       'mois', 'rennovee', 'zipcode_cluster_0', 'zipcode_cluster_1',\n",
       "       'zipcode_cluster_2', 'zipcode_cluster_3', 'zipcode_cluster_4',\n",
       "       'cluster_cah_ward_0', 'cluster_cah_ward_1', 'cluster_cah_ward_2',\n",
       "       'prix_pred'],\n",
       "      dtype='object')"
      ]
     },
     "execution_count": 116,
     "metadata": {},
     "output_type": "execute_result"
    }
   ],
   "source": [
    "test.columns"
   ]
  },
  {
   "cell_type": "code",
   "execution_count": 129,
   "metadata": {},
   "outputs": [
    {
     "name": "stdout",
     "output_type": "stream",
     "text": [
      "Dimensions X_train: (13715, 28)\n",
      "Dimensions y_train: (13715,)\n",
      "Dimensions X_test: (3429, 28)\n",
      "Dimensions y_test: (3429,)\n"
     ]
    }
   ],
   "source": [
    "target = 'prix_m2'\n",
    "features = list(train.columns.difference([target]))\n",
    "\n",
    "test_portion = 1/5\n",
    "\n",
    "X = train[features].drop('prix',axis=1)\n",
    "y = train[target]\n",
    "\n",
    "X_train, X_test, y_train, y_test = train_test_split(X, y, test_size=test_portion, shuffle=True)\n",
    "\n",
    "print('Dimensions X_train:', X_train.shape)\n",
    "print('Dimensions y_train:', y_train.shape)\n",
    "print('Dimensions X_test:', X_test.shape)\n",
    "print('Dimensions y_test:', y_test.shape)"
   ]
  },
  {
   "cell_type": "code",
   "execution_count": 142,
   "metadata": {},
   "outputs": [],
   "source": [
    "model_RFR = RandomForestRegressor(random_state=0)\n",
    "model_RFR.fit(X_train, y_train)\n",
    "\n",
    "y_test_pred_ridge = model_RFR.predict(X_test)"
   ]
  },
  {
   "cell_type": "code",
   "execution_count": 143,
   "metadata": {},
   "outputs": [
    {
     "name": "stdout",
     "output_type": "stream",
     "text": [
      "RMSE : 119313.83\n",
      "MAPE : 12.56\n"
     ]
    }
   ],
   "source": [
    "RMSE_elasticnet = np.sqrt(mean_squared_error(y_test*X_test['m2_interieur'], y_test_pred_ridge*X_test['m2_interieur']))\n",
    "print(f'RMSE : {RMSE_elasticnet:.2f}')\n",
    "\n",
    "MAPE_elasticnet = mean_absolute_percentage_error(y_test*X_test['m2_interieur'], y_test_pred_ridge*X_test['m2_interieur']) * 100\n",
    "print(f'MAPE : {MAPE_elasticnet:.2f}')"
   ]
  },
  {
   "cell_type": "code",
   "execution_count": 110,
   "metadata": {},
   "outputs": [
    {
     "name": "stdout",
     "output_type": "stream",
     "text": [
      "Feature lat: Importance 0.3635\n",
      "Feature m2_interieur: Importance 0.1144\n",
      "Feature zipcode_cluster_1: Importance 0.0723\n",
      "Feature zipcode_cluster_0: Importance 0.0692\n",
      "Feature long: Importance 0.0433\n",
      "Feature vue_mer: Importance 0.0428\n",
      "Feature zipcode_cluster_2: Importance 0.0344\n",
      "Feature m2_interieur_15voisins: Importance 0.0296\n",
      "Feature m2_jardin: Importance 0.0280\n",
      "Feature m2_soussol: Importance 0.0253\n",
      "Feature m2_jardin_15voisins: Importance 0.0212\n",
      "Feature vue_note: Importance 0.0195\n",
      "Feature annee_construction: Importance 0.0191\n",
      "Feature m2_etage: Importance 0.0173\n",
      "Feature design_note: Importance 0.0166\n",
      "Feature annee_renovation: Importance 0.0161\n",
      "Feature cluster_cah_ward_2: Importance 0.0130\n",
      "Feature mois: Importance 0.0081\n",
      "Feature zipcode_cluster_3: Importance 0.0080\n",
      "Feature etat_note: Importance 0.0080\n",
      "Feature nb_chambres: Importance 0.0078\n",
      "Feature nb_sdb: Importance 0.0078\n",
      "Feature nb_etages: Importance 0.0045\n",
      "Feature annee: Importance 0.0042\n",
      "Feature zipcode_cluster_4: Importance 0.0039\n",
      "Feature rennovee: Importance 0.0010\n",
      "Feature cluster_cah_ward_1: Importance 0.0006\n",
      "Feature cluster_cah_ward_0: Importance 0.0005\n"
     ]
    }
   ],
   "source": [
    "importances=model_RFR.feature_importances_\n",
    "\n",
    "indices = np.argsort(importances)[::-1]\n",
    "\n",
    "for i in indices:\n",
    "    print(f\"Feature {train.drop(['prix','prix_m2'],axis=1).columns[i]}: Importance {importances[i]:.4f}\")"
   ]
  },
  {
   "cell_type": "code",
   "execution_count": 106,
   "metadata": {},
   "outputs": [
    {
     "data": {
      "text/plain": [
       "Index(['prix', 'nb_chambres', 'nb_sdb', 'm2_interieur', 'm2_jardin',\n",
       "       'm2_etage', 'm2_soussol', 'nb_etages', 'vue_mer', 'vue_note',\n",
       "       'etat_note', 'design_note', 'annee_construction', 'annee_renovation',\n",
       "       'm2_interieur_15voisins', 'm2_jardin_15voisins', 'lat', 'long',\n",
       "       'prix_m2', 'annee', 'mois', 'rennovee', 'zipcode_cluster_0',\n",
       "       'zipcode_cluster_1', 'zipcode_cluster_2', 'zipcode_cluster_3',\n",
       "       'zipcode_cluster_4', 'cluster_cah_ward_0', 'cluster_cah_ward_1',\n",
       "       'cluster_cah_ward_2'],\n",
       "      dtype='object')"
      ]
     },
     "execution_count": 106,
     "metadata": {},
     "output_type": "execute_result"
    }
   ],
   "source": [
    "train.columns"
   ]
  },
  {
   "cell_type": "code",
   "execution_count": 117,
   "metadata": {},
   "outputs": [],
   "source": [
    "ids['prix']=test['prix_pred']"
   ]
  },
  {
   "cell_type": "code",
   "execution_count": 118,
   "metadata": {},
   "outputs": [],
   "source": [
    "ids.to_csv('C:/Users/morea/OneDrive/Documents/2A/PRAMA/PRAMA/RFR_prix_submission.csv',index=False)"
   ]
  },
  {
   "cell_type": "code",
   "execution_count": null,
   "metadata": {},
   "outputs": [
    {
     "data": {
      "text/plain": [
       "\"from sklearn.model_selection import RandomizedSearchCV\\nfrom scipy.stats import randint\\n\\nparam_dist = {\\n    'n_estimators': randint(50, 500),\\n    'max_depth': randint(5, 50),\\n    'min_samples_split': randint(2, 20),\\n    'min_samples_leaf': randint(1, 10),\\n    'max_features': ['sqrt', 'log2',20]\\n}\\n\\nrf = RandomForestRegressor()\\nrandom_search = RandomizedSearchCV(rf, param_distributions=param_dist, n_iter=50, cv=5, scoring='accuracy', n_jobs=-1, random_state=0)\\nrandom_search.fit(train.drop(['prix','prix_m2'],axis=1), train['prix_m2'])\\n\\n\\nprint(random_search.best_params_)\""
      ]
     },
     "execution_count": 189,
     "metadata": {},
     "output_type": "execute_result"
    }
   ],
   "source": [
    "\"\"\"from sklearn.model_selection import RandomizedSearchCV\n",
    "from scipy.stats import randint\n",
    "\n",
    "param_dist = {\n",
    "    'n_estimators': randint(50, 500),\n",
    "    'max_depth': randint(5, 50),\n",
    "    'min_samples_split': randint(2, 20),\n",
    "    'min_samples_leaf': randint(1, 10),\n",
    "    'max_features': ['sqrt', 'log2',20]\n",
    "}\n",
    "\n",
    "rf = RandomForestRegressor()\n",
    "random_search = RandomizedSearchCV(rf, param_distributions=param_dist, n_iter=50, cv=5, scoring='accuracy', n_jobs=-1, random_state=0)\n",
    "random_search.fit(train.drop(['prix','prix_m2'],axis=1), train['prix_m2'])\n",
    "\n",
    "\n",
    "print(random_search.best_params_)\"\"\""
   ]
  },
  {
   "cell_type": "code",
   "execution_count": null,
   "metadata": {},
   "outputs": [
    {
     "data": {
      "text/plain": [
       "{'max_depth': 49,\n",
       " 'max_features': 'log2',\n",
       " 'min_samples_leaf': 1,\n",
       " 'min_samples_split': 5,\n",
       " 'n_estimators': 301}"
      ]
     },
     "execution_count": 190,
     "metadata": {},
     "output_type": "execute_result"
    }
   ],
   "source": [
    "{'max_depth': 49, 'max_features': 'log2', 'min_samples_leaf': 1, 'min_samples_split': 5, 'n_estimators': 301}"
   ]
  },
  {
   "cell_type": "markdown",
   "metadata": {},
   "source": [
    "## Gradient Boosting"
   ]
  },
  {
   "cell_type": "code",
   "execution_count": 83,
   "metadata": {},
   "outputs": [],
   "source": [
    "from sklearn.ensemble import GradientBoostingRegressor"
   ]
  },
  {
   "cell_type": "code",
   "execution_count": 84,
   "metadata": {},
   "outputs": [
    {
     "name": "stdout",
     "output_type": "stream",
     "text": [
      "114914.02525928253\n",
      "114914.02525928253\n",
      "118835.97199302437\n",
      "114914.02525928253\n",
      "123435.0148424268\n",
      "114914.02525928253\n",
      "125150.5834210508\n",
      "114914.02525928253\n",
      "122718.90122951672\n",
      "112992.17246338038\n",
      "123008.24730313492\n",
      "112992.17246338038\n",
      "123565.55975043004\n",
      "112992.17246338038\n",
      "123939.95837157342\n",
      "112992.17246338038\n",
      "123403.60250368541\n",
      "112992.17246338038\n",
      "123195.40003783442\n",
      "112992.17246338038\n"
     ]
    }
   ],
   "source": [
    "L=[]\n",
    "for i in range(10):\n",
    "    train_portion = 0.8\n",
    "    train_wagon = (np.random.rand(train.shape[0]) < train_portion)\n",
    "    \n",
    "    X_test = train[train_wagon == False].drop(['prix','prix_m2'],axis=1)\n",
    "    y_test = train[train_wagon == False]['prix']\n",
    "\n",
    "    y=train[train_wagon == True]['prix_m2']\n",
    "    X=train[train_wagon == True].drop(['prix','prix_m2'],axis=1)\n",
    "\n",
    "    model_XGBoost = GradientBoostingRegressor(random_state=0)\n",
    "\n",
    "    model_XGBoost.fit(X,y)\n",
    "    Y_pred_for_test=model_XGBoost.predict(X_test)\n",
    "\n",
    "    L.append(np.sqrt(mean_squared_error(y_test,Y_pred_for_test*X_test['m2_interieur'])))\n",
    "\n",
    "    print(np.mean(L))\n",
    "    print(np.min(L))\n"
   ]
  },
  {
   "cell_type": "code",
   "execution_count": 87,
   "metadata": {},
   "outputs": [
    {
     "name": "stdout",
     "output_type": "stream",
     "text": [
      "Dimensions X_train: (13715, 28)\n",
      "Dimensions y_train: (13715,)\n",
      "Dimensions X_test: (3429, 28)\n",
      "Dimensions y_test: (3429,)\n"
     ]
    }
   ],
   "source": [
    "target = 'prix_m2'\n",
    "features = list(train.columns.difference([target]))\n",
    "\n",
    "test_portion = 1/5\n",
    "\n",
    "X = train[features].drop('prix',axis=1)\n",
    "y = train[target]\n",
    "\n",
    "X_train, X_test, y_train, y_test = train_test_split(X, y, test_size=test_portion, shuffle=True)\n",
    "\n",
    "print('Dimensions X_train:', X_train.shape)\n",
    "print('Dimensions y_train:', y_train.shape)\n",
    "print('Dimensions X_test:', X_test.shape)\n",
    "print('Dimensions y_test:', y_test.shape)"
   ]
  }
 ],
 "metadata": {
  "kernelspec": {
   "display_name": "Python 3",
   "language": "python",
   "name": "python3"
  },
  "language_info": {
   "codemirror_mode": {
    "name": "ipython",
    "version": 3
   },
   "file_extension": ".py",
   "mimetype": "text/x-python",
   "name": "python",
   "nbconvert_exporter": "python",
   "pygments_lexer": "ipython3",
   "version": "3.11.9"
  }
 },
 "nbformat": 4,
 "nbformat_minor": 2
}
